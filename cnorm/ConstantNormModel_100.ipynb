{
 "cells": [
  {
   "cell_type": "code",
   "execution_count": 1,
   "metadata": {},
   "outputs": [
    {
     "name": "stderr",
     "output_type": "stream",
     "text": [
      "/anaconda3/lib/python3.6/site-packages/h5py/__init__.py:36: FutureWarning: Conversion of the second argument of issubdtype from `float` to `np.floating` is deprecated. In future, it will be treated as `np.float64 == np.dtype(float).type`.\n",
      "  from ._conv import register_converters as _register_converters\n",
      "Using TensorFlow backend.\n",
      "/anaconda3/lib/python3.6/importlib/_bootstrap.py:219: RuntimeWarning: compiletime version 3.5 of module 'tensorflow.python.framework.fast_tensor_util' does not match runtime version 3.6\n",
      "  return f(*args, **kwds)\n"
     ]
    }
   ],
   "source": [
    "import os\n",
    "import numpy as np\n",
    "import matplotlib\n",
    "import matplotlib.pyplot as plt\n",
    "import pandas as pd\n",
    "import keras\n",
    "import pickle\n",
    "\n",
    "from keras import backend as K\n",
    "from keras.callbacks import EarlyStopping, ModelCheckpoint, ReduceLROnPlateau\n",
    "from keras.initializers import Ones, Zeros, Constant\n",
    "from keras.models import Model, load_model\n",
    "from keras.layers import Dense, Input, Lambda, SimpleRNN, Reshape, RepeatVector, PReLU\n",
    "from keras.losses import mse\n",
    "from keras.constraints import non_neg"
   ]
  },
  {
   "cell_type": "code",
   "execution_count": 2,
   "metadata": {},
   "outputs": [],
   "source": [
    "# Change presentation settings\n",
    "\n",
    "%matplotlib inline\n",
    "\n",
    "matplotlib.rcParams[\"figure.figsize\"] = (16.0, 10.0)\n",
    "\n",
    "#matplotlib.rcParams['font.family'] = 'sans-serif'\n",
    "#matplotlib.rcParams['font.sans-serif'] = ['Liberation Sans']\n",
    "\n",
    "matplotlib.rcParams[\"axes.spines.left\"] = True\n",
    "matplotlib.rcParams[\"axes.spines.top\"] = True\n",
    "matplotlib.rcParams[\"axes.spines.right\"] = True\n",
    "matplotlib.rcParams[\"axes.spines.bottom\"] = True\n",
    "matplotlib.rcParams[\"axes.labelsize\"] = 18\n",
    "matplotlib.rcParams[\"axes.titlesize\"] = 12\n",
    "\n",
    "matplotlib.rcParams[\"xtick.top\"] = True\n",
    "matplotlib.rcParams[\"ytick.right\"] = True\n",
    "matplotlib.rcParams[\"xtick.direction\"] = \"in\"\n",
    "matplotlib.rcParams[\"ytick.direction\"] = \"in\"\n",
    "matplotlib.rcParams[\"xtick.labelsize\"] = 10\n",
    "matplotlib.rcParams[\"ytick.labelsize\"] = 10\n",
    "matplotlib.rcParams[\"xtick.major.size\"] = 10\n",
    "matplotlib.rcParams[\"ytick.major.size\"] = 10\n",
    "matplotlib.rcParams[\"xtick.minor.size\"] = 5\n",
    "matplotlib.rcParams[\"ytick.minor.size\"] = 5\n",
    "matplotlib.rcParams[\"xtick.minor.visible\"] = True\n",
    "\n",
    "matplotlib.rcParams[\"lines.linewidth\"] = 2\n",
    "\n",
    "matplotlib.rcParams[\"legend.fontsize\"] = 14\n",
    "\n",
    "color_palette = {\"Indigo\": {\n",
    "                    50: \"#E8EAF6\",\n",
    "                    100: \"#C5CAE9\",\n",
    "                    200: \"#9FA8DA\",\n",
    "                    300: \"#7986CB\",\n",
    "                    400: \"#5C6BC0\",\n",
    "                    500: \"#3F51B5\",\n",
    "                    600: \"#3949AB\",\n",
    "                    700: \"#303F9F\",\n",
    "                    800: \"#283593\",\n",
    "                    900: \"#1A237E\"},\n",
    "                 \"Orange\": {      \n",
    "                    50: \"#FFF3E0\",\n",
    "                    100: \"#FFE0B2\",\n",
    "                    200: \"#FFCC80\",\n",
    "                    300: \"#FFB74D\",\n",
    "                    400: \"#FFA726\",\n",
    "                    500: \"#FF9800\",\n",
    "                    600: \"#FB8C00\",\n",
    "                    700: \"#F57C00\",\n",
    "                    800: \"#EF6C00\",\n",
    "                    900: \"#E65100\"}\n",
    "                }\n",
    "\n",
    "line_styles = [(0, ()), (0, (1, 2)), (0, (3, 2))]"
   ]
  },
  {
   "cell_type": "code",
   "execution_count": 3,
   "metadata": {},
   "outputs": [],
   "source": [
    "def plot_loss(data, save_name=False):\n",
    "    \"\"\"Plots the training and validation loss\"\"\"\n",
    "    fig, ax = plt.subplots()\n",
    "\n",
    "    plt.xlabel(\"Epoch\", horizontalalignment='right', x=1.0)\n",
    "    plt.ylabel(\"Cross-entropy\", horizontalalignment='right', y=1.0)\n",
    "\n",
    "    plt.plot(data[\"loss\"], linestyle=line_styles[0], color=color_palette[\"Indigo\"][800])\n",
    "    plt.plot(data[\"val_loss\"], linestyle=line_styles[2], color=color_palette[\"Orange\"][400])\n",
    "    plt.legend([\"Training data set\", \"Validation data set\"], loc=\"upper right\", frameon=False)\n",
    "    #plt.yscale(\"log\")\n",
    "    \n",
    "    if save_name:\n",
    "        fig.savefig(\"%s/%s.eps\" % (figure_export_directory, save_name), bbox_inches=\"tight\")\n",
    "\n",
    "    plt.show();"
   ]
  },
  {
   "cell_type": "code",
   "execution_count": 4,
   "metadata": {},
   "outputs": [],
   "source": [
    "def train_nn(model, x, y, batch_size, loss, name, xval):\n",
    "\n",
    "    adam = keras.optimizers.Adam(lr=0.003,\n",
    "                                 beta_1=0.9,\n",
    "                                 beta_2=0.999,\n",
    "                                 epsilon=None,\n",
    "                                 decay=0.0,\n",
    "                                 amsgrad=False)\n",
    "\n",
    "    early_stopper = EarlyStopping(monitor=\"val_loss\",\n",
    "                                  patience=32,\n",
    "                                  verbose=True,\n",
    "                                  mode=\"auto\")\n",
    "\n",
    "    reduce_lr = ReduceLROnPlateau(monitor=\"val_loss\",\n",
    "                                  factor=0.1,\n",
    "                                  patience=24)\n",
    "    \n",
    "    checkpoint_callback = ModelCheckpoint((\"%s.h5\" % (name)),\n",
    "                                          monitor=\"val_loss\",\n",
    "                                          verbose=False,\n",
    "                                          save_best_only=True,\n",
    "                                          mode=\"min\")\n",
    "    \n",
    "    model.compile(loss=loss, optimizer=adam)\n",
    "    \n",
    "    history = model.fit(x, y,\n",
    "                     batch_size=batch_size,\n",
    "                     epochs=1000,\n",
    "                     verbose=2,\n",
    "                     initial_epoch=0,\n",
    "                     shuffle=True,\n",
    "                     validation_data=(xval,xval),\n",
    "                     callbacks=[early_stopper, checkpoint_callback])\n",
    "    return history"
   ]
  },
  {
   "cell_type": "markdown",
   "metadata": {},
   "source": [
    "## Data"
   ]
  },
  {
   "cell_type": "code",
   "execution_count": 13,
   "metadata": {},
   "outputs": [
    {
     "ename": "FileNotFoundError",
     "evalue": "[Errno 2] No such file or directory: 'good_data_CNorm100.pickle'",
     "output_type": "error",
     "traceback": [
      "\u001b[0;31m---------------------------------------------------------------------------\u001b[0m",
      "\u001b[0;31mFileNotFoundError\u001b[0m                         Traceback (most recent call last)",
      "\u001b[0;32m<ipython-input-13-30263d231bee>\u001b[0m in \u001b[0;36m<module>\u001b[0;34m()\u001b[0m\n\u001b[1;32m      1\u001b[0m \u001b[0mruns\u001b[0m \u001b[0;34m=\u001b[0m \u001b[0;34m[\u001b[0m\u001b[0;36m304125\u001b[0m\u001b[0;34m,\u001b[0m\u001b[0;36m302263\u001b[0m\u001b[0;34m,\u001b[0m\u001b[0;36m304508\u001b[0m\u001b[0;34m]\u001b[0m\u001b[0;34m\u001b[0m\u001b[0m\n\u001b[1;32m      2\u001b[0m \u001b[0mcnorm\u001b[0m \u001b[0;34m=\u001b[0m \u001b[0;36m100\u001b[0m\u001b[0;34m\u001b[0m\u001b[0m\n\u001b[0;32m----> 3\u001b[0;31m \u001b[0;32mwith\u001b[0m \u001b[0mopen\u001b[0m\u001b[0;34m(\u001b[0m\u001b[0;34m\"good_data_CNorm\"\u001b[0m\u001b[0;34m+\u001b[0m\u001b[0mstr\u001b[0m\u001b[0;34m(\u001b[0m\u001b[0mcnorm\u001b[0m\u001b[0;34m)\u001b[0m\u001b[0;34m+\u001b[0m\u001b[0;34m\".pickle\"\u001b[0m\u001b[0;34m,\u001b[0m \u001b[0;34m'rb'\u001b[0m\u001b[0;34m)\u001b[0m \u001b[0;32mas\u001b[0m \u001b[0mhandle\u001b[0m\u001b[0;34m:\u001b[0m\u001b[0;34m\u001b[0m\u001b[0m\n\u001b[0m\u001b[1;32m      4\u001b[0m     \u001b[0mdata\u001b[0m \u001b[0;34m=\u001b[0m \u001b[0mpickle\u001b[0m\u001b[0;34m.\u001b[0m\u001b[0mload\u001b[0m\u001b[0;34m(\u001b[0m\u001b[0mhandle\u001b[0m\u001b[0;34m)\u001b[0m\u001b[0;34m\u001b[0m\u001b[0m\n\u001b[1;32m      5\u001b[0m \u001b[0;34m\u001b[0m\u001b[0m\n",
      "\u001b[0;31mFileNotFoundError\u001b[0m: [Errno 2] No such file or directory: 'good_data_CNorm100.pickle'"
     ]
    }
   ],
   "source": [
    "runs = [304125,302263,304508]\n",
    "cnorm = 100\n",
    "with open(\"good_data_CNorm\"+str(cnorm)+\".pickle\", 'rb') as handle:\n",
    "    data = pickle.load(handle)\n",
    "\n",
    "x_train = np.array(data[str(runs[0])]['samples'])\n",
    "x_val = np.array(data[str(runs[1])]['samples'])\n",
    "x_test = np.array(data[str(runs[2])]['samples'])\n",
    "\n",
    "WINDOW = 1\n"
   ]
  },
  {
   "cell_type": "code",
   "execution_count": 14,
   "metadata": {},
   "outputs": [
    {
     "ename": "NameError",
     "evalue": "name 'x_train' is not defined",
     "output_type": "error",
     "traceback": [
      "\u001b[0;31m---------------------------------------------------------------------------\u001b[0m",
      "\u001b[0;31mNameError\u001b[0m                                 Traceback (most recent call last)",
      "\u001b[0;32m<ipython-input-14-f5137ab1a916>\u001b[0m in \u001b[0;36m<module>\u001b[0;34m()\u001b[0m\n\u001b[0;32m----> 1\u001b[0;31m \u001b[0mplots\u001b[0m \u001b[0;34m=\u001b[0m \u001b[0;34m[\u001b[0m\u001b[0mx_train\u001b[0m\u001b[0;34m,\u001b[0m\u001b[0mx_val\u001b[0m\u001b[0;34m,\u001b[0m\u001b[0mx_test\u001b[0m\u001b[0;34m]\u001b[0m\u001b[0;34m\u001b[0m\u001b[0m\n\u001b[0m\u001b[1;32m      2\u001b[0m \u001b[0mtitles\u001b[0m \u001b[0;34m=\u001b[0m \u001b[0;34m[\u001b[0m\u001b[0;34m\"train\"\u001b[0m\u001b[0;34m,\u001b[0m\u001b[0;34m\"val\"\u001b[0m\u001b[0;34m,\u001b[0m\u001b[0;34m\"test\"\u001b[0m\u001b[0;34m]\u001b[0m\u001b[0;34m\u001b[0m\u001b[0m\n\u001b[1;32m      3\u001b[0m \u001b[0;34m\u001b[0m\u001b[0m\n\u001b[1;32m      4\u001b[0m \u001b[0mstuff\u001b[0m \u001b[0;34m=\u001b[0m \u001b[0;34m[\u001b[0m\u001b[0;34m[\u001b[0m\u001b[0;34m]\u001b[0m\u001b[0;34m,\u001b[0m\u001b[0;34m[\u001b[0m\u001b[0;34m]\u001b[0m\u001b[0;34m,\u001b[0m\u001b[0;34m[\u001b[0m\u001b[0;34m]\u001b[0m\u001b[0;34m]\u001b[0m\u001b[0;34m\u001b[0m\u001b[0m\n\u001b[1;32m      5\u001b[0m \u001b[0mlumi\u001b[0m \u001b[0;34m=\u001b[0m \u001b[0;34m[\u001b[0m\u001b[0;34m[\u001b[0m\u001b[0;34m]\u001b[0m\u001b[0;34m,\u001b[0m\u001b[0;34m[\u001b[0m\u001b[0;34m]\u001b[0m\u001b[0;34m,\u001b[0m\u001b[0;34m[\u001b[0m\u001b[0;34m]\u001b[0m\u001b[0;34m]\u001b[0m\u001b[0;34m\u001b[0m\u001b[0m\n",
      "\u001b[0;31mNameError\u001b[0m: name 'x_train' is not defined"
     ]
    }
   ],
   "source": [
    "plots = [x_train,x_val,x_test]\n",
    "titles = [\"train\",\"val\",\"test\"]\n",
    "\n",
    "stuff = [[],[],[]]\n",
    "lumi = [[],[],[]]\n",
    "for h in range(3):\n",
    "    labels = data['HLT'] \n",
    "    lumi[h] = data[str(runs[h])]['lumiid']\n",
    "    stuff[h] = data[str(runs[h])]['rates']\n",
    "    \n",
    "plt.figure(figsize=[20,10])\n",
    "              \n",
    "for i in range(4):\n",
    "    plt.subplot(2,2,i+1)\n",
    "    for k in range(0,3):\n",
    "        print(len(lumi[k]),len(stuff[k][i]))\n",
    "        plt.scatter(lumi[k],stuff[k][i],label=titles[k],alpha=.5)\n",
    "    plt.xlabel('lumi id')\n",
    "    plt.ylabel('error')\n",
    "    plt.title(labels[i])\n",
    "    plt.legend()\n",
    "\n",
    "plt.tight_layout()\n",
    "plt.show()"
   ]
  },
  {
   "cell_type": "markdown",
   "metadata": {},
   "source": [
    "## Simple Autoencoder"
   ]
  },
  {
   "cell_type": "code",
   "execution_count": 7,
   "metadata": {},
   "outputs": [],
   "source": [
    "model_name = \"simplest_\" + str(cnorm)"
   ]
  },
  {
   "cell_type": "code",
   "execution_count": 8,
   "metadata": {},
   "outputs": [
    {
     "ename": "NameError",
     "evalue": "name 'WINDOW' is not defined",
     "output_type": "error",
     "traceback": [
      "\u001b[0;31m---------------------------------------------------------------------------\u001b[0m",
      "\u001b[0;31mNameError\u001b[0m                                 Traceback (most recent call last)",
      "\u001b[0;32m<ipython-input-8-fb158d3807dc>\u001b[0m in \u001b[0;36m<module>\u001b[0;34m()\u001b[0m\n\u001b[1;32m      1\u001b[0m \u001b[0;31m# Define the architecture\u001b[0m\u001b[0;34m\u001b[0m\u001b[0;34m\u001b[0m\u001b[0m\n\u001b[1;32m      2\u001b[0m \u001b[0;34m\u001b[0m\u001b[0m\n\u001b[0;32m----> 3\u001b[0;31m \u001b[0m_input\u001b[0m \u001b[0;34m=\u001b[0m \u001b[0mInput\u001b[0m\u001b[0;34m(\u001b[0m\u001b[0mshape\u001b[0m\u001b[0;34m=\u001b[0m\u001b[0;34m(\u001b[0m\u001b[0;36m4\u001b[0m\u001b[0;34m*\u001b[0m\u001b[0mWINDOW\u001b[0m\u001b[0;34m,\u001b[0m\u001b[0;34m)\u001b[0m\u001b[0;34m,\u001b[0m \u001b[0mname\u001b[0m\u001b[0;34m=\u001b[0m\u001b[0;34m\"input\"\u001b[0m\u001b[0;34m)\u001b[0m\u001b[0;34m\u001b[0m\u001b[0m\n\u001b[0m\u001b[1;32m      4\u001b[0m \u001b[0;34m\u001b[0m\u001b[0m\n\u001b[1;32m      5\u001b[0m hidden = Dense(3,\n",
      "\u001b[0;31mNameError\u001b[0m: name 'WINDOW' is not defined"
     ]
    }
   ],
   "source": [
    "# Define the architecture\n",
    "\n",
    "_input = Input(shape=(4*WINDOW,), name=\"input\")\n",
    "\n",
    "hidden = Dense(3,\n",
    "               kernel_initializer=Ones(),\n",
    "               bias_initializer=Zeros(),\n",
    "               kernel_constraint=non_neg(),\n",
    "               bias_constraint=non_neg(),\n",
    "               activation=None,\n",
    "               name=\"encoded\")(_input)\n",
    "\n",
    "output = Dense(4*WINDOW,\n",
    "               kernel_initializer=Ones(),\n",
    "               bias_initializer=Zeros(),\n",
    "               kernel_constraint=non_neg(),\n",
    "               bias_constraint=non_neg(),\n",
    "               activation=None,\n",
    "               name=\"reconstructed\")(hidden)\n",
    "\n",
    "model = Model(_input, output)\n",
    "model.summary()"
   ]
  },
  {
   "cell_type": "code",
   "execution_count": 9,
   "metadata": {
    "scrolled": true
   },
   "outputs": [
    {
     "ename": "NameError",
     "evalue": "name 'model' is not defined",
     "output_type": "error",
     "traceback": [
      "\u001b[0;31m---------------------------------------------------------------------------\u001b[0m",
      "\u001b[0;31mNameError\u001b[0m                                 Traceback (most recent call last)",
      "\u001b[0;32m<ipython-input-9-782e163fac65>\u001b[0m in \u001b[0;36m<module>\u001b[0;34m()\u001b[0m\n\u001b[1;32m      1\u001b[0m \u001b[0;31m# Train neural networks\u001b[0m\u001b[0;34m\u001b[0m\u001b[0;34m\u001b[0m\u001b[0m\n\u001b[0;32m----> 2\u001b[0;31m \u001b[0mhistory\u001b[0m \u001b[0;34m=\u001b[0m \u001b[0mtrain_nn\u001b[0m\u001b[0;34m(\u001b[0m\u001b[0mmodel\u001b[0m\u001b[0;34m,\u001b[0m \u001b[0mx_train\u001b[0m\u001b[0;34m,\u001b[0m \u001b[0mx_train\u001b[0m\u001b[0;34m,\u001b[0m \u001b[0;36m1024\u001b[0m\u001b[0;34m,\u001b[0m \u001b[0;34m\"mse\"\u001b[0m\u001b[0;34m,\u001b[0m \u001b[0mmodel_name\u001b[0m\u001b[0;34m,\u001b[0m \u001b[0mx_val\u001b[0m\u001b[0;34m)\u001b[0m\u001b[0;34m.\u001b[0m\u001b[0mhistory\u001b[0m\u001b[0;34m\u001b[0m\u001b[0m\n\u001b[0m\u001b[1;32m      3\u001b[0m \u001b[0mplot_loss\u001b[0m\u001b[0;34m(\u001b[0m\u001b[0mhistory\u001b[0m\u001b[0;34m)\u001b[0m\u001b[0;34m\u001b[0m\u001b[0m\n",
      "\u001b[0;31mNameError\u001b[0m: name 'model' is not defined"
     ]
    }
   ],
   "source": [
    "# Train neural networks\n",
    "history = train_nn(model, x_train, x_train, 1024, \"mse\", model_name, x_val).history\n",
    "plot_loss(history)"
   ]
  },
  {
   "cell_type": "code",
   "execution_count": 10,
   "metadata": {},
   "outputs": [
    {
     "ename": "NameError",
     "evalue": "name 'history' is not defined",
     "output_type": "error",
     "traceback": [
      "\u001b[0;31m---------------------------------------------------------------------------\u001b[0m",
      "\u001b[0;31mNameError\u001b[0m                                 Traceback (most recent call last)",
      "\u001b[0;32m<ipython-input-10-a5d8c9c0dab5>\u001b[0m in \u001b[0;36m<module>\u001b[0;34m()\u001b[0m\n\u001b[0;32m----> 1\u001b[0;31m \u001b[0mplot_loss\u001b[0m\u001b[0;34m(\u001b[0m\u001b[0mhistory\u001b[0m\u001b[0;34m)\u001b[0m\u001b[0;34m\u001b[0m\u001b[0m\n\u001b[0m",
      "\u001b[0;31mNameError\u001b[0m: name 'history' is not defined"
     ]
    }
   ],
   "source": [
    "plot_loss(history)"
   ]
  },
  {
   "cell_type": "markdown",
   "metadata": {},
   "source": [
    "## Training Set"
   ]
  },
  {
   "cell_type": "code",
   "execution_count": 11,
   "metadata": {},
   "outputs": [
    {
     "ename": "OSError",
     "evalue": "Unable to open file (unable to open file: name = 'simplest_100.h5', errno = 2, error message = 'No such file or directory', flags = 0, o_flags = 0)",
     "output_type": "error",
     "traceback": [
      "\u001b[0;31m---------------------------------------------------------------------------\u001b[0m",
      "\u001b[0;31mOSError\u001b[0m                                   Traceback (most recent call last)",
      "\u001b[0;32m<ipython-input-11-43bf2db66e36>\u001b[0m in \u001b[0;36m<module>\u001b[0;34m()\u001b[0m\n\u001b[1;32m      1\u001b[0m \u001b[0;31m# Generate predictions\u001b[0m\u001b[0;34m\u001b[0m\u001b[0;34m\u001b[0m\u001b[0m\n\u001b[1;32m      2\u001b[0m \u001b[0;34m\u001b[0m\u001b[0m\n\u001b[0;32m----> 3\u001b[0;31m \u001b[0mmodel\u001b[0m \u001b[0;34m=\u001b[0m \u001b[0mload_model\u001b[0m\u001b[0;34m(\u001b[0m\u001b[0;34m\"%s.h5\"\u001b[0m \u001b[0;34m%\u001b[0m \u001b[0;34m(\u001b[0m\u001b[0mmodel_name\u001b[0m\u001b[0;34m)\u001b[0m\u001b[0;34m)\u001b[0m\u001b[0;34m\u001b[0m\u001b[0m\n\u001b[0m\u001b[1;32m      4\u001b[0m \u001b[0;34m\u001b[0m\u001b[0m\n\u001b[1;32m      5\u001b[0m \u001b[0mx_train_new\u001b[0m \u001b[0;34m=\u001b[0m \u001b[0;34m[\u001b[0m\u001b[0;34m]\u001b[0m\u001b[0;34m\u001b[0m\u001b[0m\n",
      "\u001b[0;32m/anaconda3/lib/python3.6/site-packages/Keras-2.2.2-py3.6.egg/keras/engine/saving.py\u001b[0m in \u001b[0;36mload_model\u001b[0;34m(filepath, custom_objects, compile)\u001b[0m\n\u001b[1;32m    247\u001b[0m     \u001b[0mopened_new_file\u001b[0m \u001b[0;34m=\u001b[0m \u001b[0;32mnot\u001b[0m \u001b[0misinstance\u001b[0m\u001b[0;34m(\u001b[0m\u001b[0mfilepath\u001b[0m\u001b[0;34m,\u001b[0m \u001b[0mh5py\u001b[0m\u001b[0;34m.\u001b[0m\u001b[0mGroup\u001b[0m\u001b[0;34m)\u001b[0m\u001b[0;34m\u001b[0m\u001b[0m\n\u001b[1;32m    248\u001b[0m     \u001b[0;32mif\u001b[0m \u001b[0mopened_new_file\u001b[0m\u001b[0;34m:\u001b[0m\u001b[0;34m\u001b[0m\u001b[0m\n\u001b[0;32m--> 249\u001b[0;31m         \u001b[0mf\u001b[0m \u001b[0;34m=\u001b[0m \u001b[0mh5py\u001b[0m\u001b[0;34m.\u001b[0m\u001b[0mFile\u001b[0m\u001b[0;34m(\u001b[0m\u001b[0mfilepath\u001b[0m\u001b[0;34m,\u001b[0m \u001b[0mmode\u001b[0m\u001b[0;34m=\u001b[0m\u001b[0;34m'r'\u001b[0m\u001b[0;34m)\u001b[0m\u001b[0;34m\u001b[0m\u001b[0m\n\u001b[0m\u001b[1;32m    250\u001b[0m     \u001b[0;32melse\u001b[0m\u001b[0;34m:\u001b[0m\u001b[0;34m\u001b[0m\u001b[0m\n\u001b[1;32m    251\u001b[0m         \u001b[0mf\u001b[0m \u001b[0;34m=\u001b[0m \u001b[0mfilepath\u001b[0m\u001b[0;34m\u001b[0m\u001b[0m\n",
      "\u001b[0;32m/anaconda3/lib/python3.6/site-packages/h5py/_hl/files.py\u001b[0m in \u001b[0;36m__init__\u001b[0;34m(self, name, mode, driver, libver, userblock_size, swmr, **kwds)\u001b[0m\n\u001b[1;32m    267\u001b[0m             \u001b[0;32mwith\u001b[0m \u001b[0mphil\u001b[0m\u001b[0;34m:\u001b[0m\u001b[0;34m\u001b[0m\u001b[0m\n\u001b[1;32m    268\u001b[0m                 \u001b[0mfapl\u001b[0m \u001b[0;34m=\u001b[0m \u001b[0mmake_fapl\u001b[0m\u001b[0;34m(\u001b[0m\u001b[0mdriver\u001b[0m\u001b[0;34m,\u001b[0m \u001b[0mlibver\u001b[0m\u001b[0;34m,\u001b[0m \u001b[0;34m**\u001b[0m\u001b[0mkwds\u001b[0m\u001b[0;34m)\u001b[0m\u001b[0;34m\u001b[0m\u001b[0m\n\u001b[0;32m--> 269\u001b[0;31m                 \u001b[0mfid\u001b[0m \u001b[0;34m=\u001b[0m \u001b[0mmake_fid\u001b[0m\u001b[0;34m(\u001b[0m\u001b[0mname\u001b[0m\u001b[0;34m,\u001b[0m \u001b[0mmode\u001b[0m\u001b[0;34m,\u001b[0m \u001b[0muserblock_size\u001b[0m\u001b[0;34m,\u001b[0m \u001b[0mfapl\u001b[0m\u001b[0;34m,\u001b[0m \u001b[0mswmr\u001b[0m\u001b[0;34m=\u001b[0m\u001b[0mswmr\u001b[0m\u001b[0;34m)\u001b[0m\u001b[0;34m\u001b[0m\u001b[0m\n\u001b[0m\u001b[1;32m    270\u001b[0m \u001b[0;34m\u001b[0m\u001b[0m\n\u001b[1;32m    271\u001b[0m                 \u001b[0;32mif\u001b[0m \u001b[0mswmr_support\u001b[0m\u001b[0;34m:\u001b[0m\u001b[0;34m\u001b[0m\u001b[0m\n",
      "\u001b[0;32m/anaconda3/lib/python3.6/site-packages/h5py/_hl/files.py\u001b[0m in \u001b[0;36mmake_fid\u001b[0;34m(name, mode, userblock_size, fapl, fcpl, swmr)\u001b[0m\n\u001b[1;32m     97\u001b[0m         \u001b[0;32mif\u001b[0m \u001b[0mswmr\u001b[0m \u001b[0;32mand\u001b[0m \u001b[0mswmr_support\u001b[0m\u001b[0;34m:\u001b[0m\u001b[0;34m\u001b[0m\u001b[0m\n\u001b[1;32m     98\u001b[0m             \u001b[0mflags\u001b[0m \u001b[0;34m|=\u001b[0m \u001b[0mh5f\u001b[0m\u001b[0;34m.\u001b[0m\u001b[0mACC_SWMR_READ\u001b[0m\u001b[0;34m\u001b[0m\u001b[0m\n\u001b[0;32m---> 99\u001b[0;31m         \u001b[0mfid\u001b[0m \u001b[0;34m=\u001b[0m \u001b[0mh5f\u001b[0m\u001b[0;34m.\u001b[0m\u001b[0mopen\u001b[0m\u001b[0;34m(\u001b[0m\u001b[0mname\u001b[0m\u001b[0;34m,\u001b[0m \u001b[0mflags\u001b[0m\u001b[0;34m,\u001b[0m \u001b[0mfapl\u001b[0m\u001b[0;34m=\u001b[0m\u001b[0mfapl\u001b[0m\u001b[0;34m)\u001b[0m\u001b[0;34m\u001b[0m\u001b[0m\n\u001b[0m\u001b[1;32m    100\u001b[0m     \u001b[0;32melif\u001b[0m \u001b[0mmode\u001b[0m \u001b[0;34m==\u001b[0m \u001b[0;34m'r+'\u001b[0m\u001b[0;34m:\u001b[0m\u001b[0;34m\u001b[0m\u001b[0m\n\u001b[1;32m    101\u001b[0m         \u001b[0mfid\u001b[0m \u001b[0;34m=\u001b[0m \u001b[0mh5f\u001b[0m\u001b[0;34m.\u001b[0m\u001b[0mopen\u001b[0m\u001b[0;34m(\u001b[0m\u001b[0mname\u001b[0m\u001b[0;34m,\u001b[0m \u001b[0mh5f\u001b[0m\u001b[0;34m.\u001b[0m\u001b[0mACC_RDWR\u001b[0m\u001b[0;34m,\u001b[0m \u001b[0mfapl\u001b[0m\u001b[0;34m=\u001b[0m\u001b[0mfapl\u001b[0m\u001b[0;34m)\u001b[0m\u001b[0;34m\u001b[0m\u001b[0m\n",
      "\u001b[0;32mh5py/_objects.pyx\u001b[0m in \u001b[0;36mh5py._objects.with_phil.wrapper\u001b[0;34m()\u001b[0m\n",
      "\u001b[0;32mh5py/_objects.pyx\u001b[0m in \u001b[0;36mh5py._objects.with_phil.wrapper\u001b[0;34m()\u001b[0m\n",
      "\u001b[0;32mh5py/h5f.pyx\u001b[0m in \u001b[0;36mh5py.h5f.open\u001b[0;34m()\u001b[0m\n",
      "\u001b[0;31mOSError\u001b[0m: Unable to open file (unable to open file: name = 'simplest_100.h5', errno = 2, error message = 'No such file or directory', flags = 0, o_flags = 0)"
     ]
    }
   ],
   "source": [
    "# Generate predictions\n",
    "\n",
    "model = load_model(\"%s.h5\" % (model_name))\n",
    "\n",
    "x_train_new = []\n",
    "lumi_new = []\n",
    "lumi = data[str(runs[0])]['lumiid'] \n",
    "\n",
    "for l in range(len(x_train)):\n",
    "    if not 0 in x_train[l]:\n",
    "        x_train_new.append(x_train[l])\n",
    "        for i in range(WINDOW):\n",
    "            lumi_new.append(lumi[l+i])\n",
    "                \n",
    "reconstructed = model.predict(np.array(x_train_new))\n",
    "\n",
    "error = abs(x_train_new-reconstructed)/x_train_new"
   ]
  },
  {
   "cell_type": "code",
   "execution_count": null,
   "metadata": {},
   "outputs": [],
   "source": [
    "error_reformat = []\n",
    "for i in range(4):\n",
    "    error_reformat.append([])\n",
    "\n",
    "for i in range(len(error)):\n",
    "    for j in range(4):\n",
    "        if i == len(error)-1:\n",
    "            for val in error[i][WINDOW*j:WINDOW+WINDOW*j]:\n",
    "                error_reformat[j].append(val)\n",
    "        else:\n",
    "            error_reformat[j].append(error[i][WINDOW*j])\n",
    "            \n",
    "inp = []\n",
    "outp = []\n",
    "for i in range(4):\n",
    "    inp.append([])\n",
    "    outp.append([])\n",
    "    \n",
    "for i in range(len(reconstructed)):\n",
    "    for j in range(4):\n",
    "        if i == len(reconstructed)-1:\n",
    "            for val in reconstructed[i][WINDOW*j:WINDOW+WINDOW*j]:\n",
    "                outp[j].append(val)\n",
    "            for val in x_train_new[i][WINDOW*j:WINDOW+WINDOW*j]:\n",
    "                inp[j].append(val)\n",
    "        else:\n",
    "            outp[j].append(reconstructed[i][WINDOW*j])\n",
    "            inp[j].append(x_train_new[i][WINDOW*j])"
   ]
  },
  {
   "cell_type": "code",
   "execution_count": null,
   "metadata": {},
   "outputs": [],
   "source": [
    "labels = data['HLT']\n",
    "\n",
    "#bins = np.linspace(0,1,50)\n",
    "bins = 50\n",
    "plt.figure(figsize=[20,10])\n",
    "for i in range(len(error_reformat)):\n",
    "    plt.subplot(2,2,i+1)\n",
    "    plt.hist(error_reformat[i],bins=bins,label=labels[i],alpha=.5)\n",
    "    plt.legend()\n",
    "\n",
    "#lumi = np.linspace(0,len(error_reformat[0]),len(error_reformat[0]))\n",
    "plt.figure(figsize=[20,10])\n",
    "for i in range(0,4):\n",
    "    plt.subplot(2,2,i+1)\n",
    "    plt.scatter(lumi,error_reformat[i],label=labels[i],alpha=.5)\n",
    "    plt.xlabel('lumi id')\n",
    "    plt.ylabel('error')\n",
    "    plt.legend()    \n",
    "\n",
    "plt.show()"
   ]
  },
  {
   "cell_type": "code",
   "execution_count": null,
   "metadata": {},
   "outputs": [],
   "source": [
    "plt.figure(figsize=[10,10])\n",
    "for i in range(0,4):\n",
    "    plt.subplot(2,2,i+1)\n",
    "    plt.plot(outp[i],inp[i],label=labels[i], linestyle='',marker='o', markersize=3, alpha=0.5)\n",
    "    #plt.scatter(lumi,outp[i],label='output',alpha=.5)\n",
    "    plt.xlabel('index')\n",
    "    plt.ylabel('value')\n",
    "    plt.axis('equal')\n",
    "    #plt.ylim(0,1.8)\n",
    "    plt.legend()    \n",
    "\n",
    "plt.show()"
   ]
  },
  {
   "cell_type": "markdown",
   "metadata": {},
   "source": [
    "## Test Data"
   ]
  },
  {
   "cell_type": "code",
   "execution_count": null,
   "metadata": {},
   "outputs": [],
   "source": [
    "# Generate predictions\n",
    "\n",
    "model = load_model(\"%s.h5\" % (model_name))\n",
    "\n",
    "x_test_new = []\n",
    "for l in x_test:\n",
    "    if not 0 in l:\n",
    "        x_test_new.append(l)\n",
    "                \n",
    "reconstructed = model.predict(np.array(x_test_new))\n",
    "\n",
    "error = abs(x_test_new-reconstructed)/x_test_new"
   ]
  },
  {
   "cell_type": "code",
   "execution_count": null,
   "metadata": {},
   "outputs": [],
   "source": [
    "error_reformat = []\n",
    "for i in range(4):\n",
    "    error_reformat.append([])\n",
    "\n",
    "for i in range(len(error)):\n",
    "    for j in range(4):\n",
    "        if i == len(error)-1:\n",
    "            for val in error[i][WINDOW*j:WINDOW+WINDOW*j]:\n",
    "                error_reformat[j].append(val)\n",
    "        else:\n",
    "            error_reformat[j].append(error[i][WINDOW*j])\n",
    "            \n",
    "inp = []\n",
    "outp = []\n",
    "for i in range(4):\n",
    "    inp.append([])\n",
    "    outp.append([])\n",
    "    \n",
    "for i in range(len(reconstructed)):\n",
    "    for j in range(4):\n",
    "        if i == len(reconstructed)-1:\n",
    "            for val in reconstructed[i][WINDOW*j:WINDOW+WINDOW*j]:\n",
    "                outp[j].append(val)\n",
    "            for val in x_test_new[i][WINDOW*j:WINDOW+WINDOW*j]:\n",
    "                inp[j].append(val)\n",
    "        else:\n",
    "            outp[j].append(reconstructed[i][WINDOW*j])\n",
    "            inp[j].append(x_test_new[i][WINDOW*j])"
   ]
  },
  {
   "cell_type": "code",
   "execution_count": null,
   "metadata": {},
   "outputs": [],
   "source": [
    "labels = data['HLT']\n",
    "\n",
    "#bins = np.linspace(0,1,50)\n",
    "bins = 50\n",
    "plt.figure(figsize=[20,10])\n",
    "for i in range(len(error_reformat)):\n",
    "    plt.subplot(2,2,i+1)\n",
    "    plt.hist(error_reformat[i],bins=bins,label=labels[i],alpha=.5)\n",
    "    plt.legend()\n",
    "\n",
    "lumi = data[str(runs[2])]['lumiid'] \n",
    "#lumi = np.linspace(0,len(error_reformat[0]),len(error_reformat[0]))\n",
    "plt.figure(figsize=[20,10])\n",
    "for i in range(0,4):\n",
    "    plt.subplot(2,2,i+1)\n",
    "    plt.scatter(lumi,error_reformat[i],label=labels[i],alpha=.5)\n",
    "    plt.xlabel('lumi id')\n",
    "    plt.ylabel('error')\n",
    "    plt.legend()    \n",
    "\n",
    "plt.show()"
   ]
  },
  {
   "cell_type": "code",
   "execution_count": null,
   "metadata": {},
   "outputs": [],
   "source": [
    "plt.figure(figsize=[10,10])\n",
    "for i in range(0,4):\n",
    "    plt.subplot(2,2,i+1)\n",
    "    plt.plot(outp[i],inp[i],label=labels[i], linestyle='',marker='o', markersize=3, alpha=0.5)\n",
    "    #plt.scatter(lumi,outp[i],label='output',alpha=.5)\n",
    "    plt.xlabel('index')\n",
    "    plt.ylabel('value')\n",
    "    plt.axis('equal')\n",
    "    #plt.xlim(0,1.8)\n",
    "    #plt.ylim(0,1.8)\n",
    "    plt.legend()    \n",
    "\n",
    "plt.show()"
   ]
  },
  {
   "cell_type": "code",
   "execution_count": null,
   "metadata": {},
   "outputs": [],
   "source": [
    "# plt.figure(figsize=[20,10])\n",
    "# for i in range(0,4):\n",
    "#     plt.subplot(2,2,i+1)\n",
    "#     plt.scatter(lumi,inp[i],label='input',alpha=.5)\n",
    "#     plt.scatter(lumi,outp[i]/max(outp[i]),label='output',alpha=.5)\n",
    "#     plt.xlabel('index')\n",
    "#     plt.ylabel('value')\n",
    "#     plt.legend()    \n",
    "\n",
    "# plt.show()"
   ]
  },
  {
   "cell_type": "code",
   "execution_count": null,
   "metadata": {},
   "outputs": [],
   "source": [
    "# for i in range(len(outp)):\n",
    "#     for j in range(i+1,len(outp)):\n",
    "#         print(sum(np.array(outp[i]/max(outp[i]))-np.array(outp[j]/max(outp[j]))))"
   ]
  },
  {
   "cell_type": "markdown",
   "metadata": {},
   "source": [
    "## Fake Bad Data"
   ]
  },
  {
   "cell_type": "code",
   "execution_count": null,
   "metadata": {},
   "outputs": [],
   "source": [
    "bad = np.array(data[str(runs[2])]['bad_samples'])"
   ]
  },
  {
   "cell_type": "code",
   "execution_count": null,
   "metadata": {},
   "outputs": [],
   "source": [
    "bad_new = []\n",
    "for l in bad:\n",
    "    if not 0 in l:\n",
    "        bad_new.append(l)\n",
    "                \n",
    "reconstructed_bad = model.predict(np.array(bad_new))\n",
    "\n",
    "error_bad = abs(bad_new-reconstructed_bad)/bad_new"
   ]
  },
  {
   "cell_type": "code",
   "execution_count": null,
   "metadata": {},
   "outputs": [],
   "source": [
    "error_reformat_bad = []\n",
    "for i in range(4):\n",
    "    error_reformat_bad.append([])\n",
    "\n",
    "for i in range(len(error_bad)):\n",
    "    for j in range(4):\n",
    "        if i == len(error_bad)-1:\n",
    "            for val in error_bad[i][WINDOW*j:WINDOW+WINDOW*j]:\n",
    "                error_reformat_bad[j].append(val)\n",
    "        else:\n",
    "            error_reformat_bad[j].append(error_bad[i][WINDOW*j])\n",
    "            \n",
    "inp_bad = []\n",
    "outp_bad = []\n",
    "for i in range(4):\n",
    "    inp_bad.append([])\n",
    "    outp_bad.append([])\n",
    "    \n",
    "for i in range(len(reconstructed_bad)):\n",
    "    for j in range(4):\n",
    "        if i == len(reconstructed_bad)-1:\n",
    "            for val in reconstructed_bad[i][WINDOW*j:WINDOW+WINDOW*j]:\n",
    "                outp_bad[j].append(val)\n",
    "            for val in bad_new[i][WINDOW*j:WINDOW+WINDOW*j]:\n",
    "                inp_bad[j].append(val)\n",
    "        else:\n",
    "            outp_bad[j].append(reconstructed_bad[i][WINDOW*j])\n",
    "            inp_bad[j].append(bad_new[i][WINDOW*j])\n",
    "            \n",
    "        "
   ]
  },
  {
   "cell_type": "code",
   "execution_count": null,
   "metadata": {},
   "outputs": [],
   "source": [
    "labels = data['HLT']\n",
    "\n",
    "#bins = np.linspace(0,1,50)\n",
    "bins = 50\n",
    "plt.figure(figsize=[20,10])\n",
    "for i in range(len(error_reformat_bad)):\n",
    "    plt.subplot(2,2,i+1)\n",
    "    plt.hist(error_reformat[i],bins=bins,label='good',alpha=.5)\n",
    "    plt.hist(error_reformat_bad[i],bins=bins,label='fake bad',alpha=.5)\n",
    "    plt.legend()\n",
    "    plt.title(labels[i])\n",
    "\n",
    "lumi = data[str(runs[2])]['lumiid'] \n",
    "print(len(error_reformat_bad[0]),len(lumi))\n",
    "#lumi = np.linspace(0,len(error_reformat_bad[0]),len(error_reformat_bad[0]))\n",
    "plt.figure(figsize=[20,10])\n",
    "for i in range(0,4):\n",
    "    plt.subplot(2,2,i+1)\n",
    "    plt.scatter(lumi,error_reformat[i],label = 'good', alpha =.5)\n",
    "    plt.scatter(lumi,error_reformat_bad[i],label='fake bad',alpha=.5)\n",
    "    plt.xlabel('lumi id')\n",
    "    plt.ylabel('error')\n",
    "    plt.legend()    \n",
    "    plt.title(labels[i])\n",
    "\n",
    "plt.show()"
   ]
  },
  {
   "cell_type": "code",
   "execution_count": null,
   "metadata": {},
   "outputs": [],
   "source": [
    "plt.figure(figsize=[10,10])\n",
    "for i in range(0,4):\n",
    "    plt.subplot(2,2,i+1)\n",
    "    plt.plot(outp_bad[i],inp_bad[i],label=labels[i], linestyle='',marker='o', markersize=3, alpha=0.5)\n",
    "    plt.xlabel('index')\n",
    "    plt.ylabel('value')\n",
    "    plt.axis('equal')\n",
    "    #plt.xlim(0,2)\n",
    "    #plt.ylim(0,2)\n",
    "    plt.legend()    \n",
    "\n",
    "plt.show()"
   ]
  },
  {
   "cell_type": "code",
   "execution_count": null,
   "metadata": {},
   "outputs": [],
   "source": [
    "# plt.figure(figsize=[20,10])\n",
    "# for i in range(0,4):\n",
    "#     plt.subplot(2,2,i+1)\n",
    "#     plt.scatter(lumi,inp_bad[i],label='inp_badut',alpha=.5)\n",
    "#     plt.scatter(lumi,outp_bad[i]/max(outp_bad[i]),label='outp_badut',alpha=.5)\n",
    "#     plt.xlabel('index')\n",
    "#     plt.ylabel('value')\n",
    "#     plt.legend()    \n",
    "\n",
    "# plt.show()"
   ]
  },
  {
   "cell_type": "code",
   "execution_count": null,
   "metadata": {},
   "outputs": [],
   "source": [
    "# labels = data['HLT']\n",
    "\n",
    "# #bins = np.linspace(0,1,50)\n",
    "# bins = 50\n",
    "# plt.figure(figsize=[20,10])\n",
    "# for i in range(len(error_reformat_bad)):\n",
    "#     plt.subplot(2,2,i+1)\n",
    "#     plt.hist(error_reformat_bad[i],bins=bins,label='bad',alpha=.5)\n",
    "#     plt.hist(error_reformat[i],bins=bins,label='good',alpha=.5)\n",
    "#     plt.legend()\n",
    "\n",
    "# # lumi = data[str(runs[0])]['lumiid'] \n",
    "# # print(len(error_reformat_bad[0]),len(lumi))\n",
    "# # #lumi = np.linspace(0,len(error_reformat_bad[0]),len(error_reformat_bad[0]))\n",
    "# # plt.figure(figsize=[20,10])\n",
    "# # for i in range(0,4):\n",
    "# #     plt.subplot(2,2,i+1)\n",
    "# #     plt.scatter(lumi,error_reformat_bad[i],label='bad',alpha=.5)\n",
    "# #     plt.scatter(lumi,error_reformat[i],label='good',alpha=.5)\n",
    "# #     plt.xlabel('lumi id')\n",
    "# #     plt.ylabel('error')\n",
    "# #     plt.legend()    \n",
    "\n",
    "# plt.show()"
   ]
  },
  {
   "cell_type": "code",
   "execution_count": null,
   "metadata": {},
   "outputs": [],
   "source": []
  },
  {
   "cell_type": "markdown",
   "metadata": {},
   "source": [
    "## Fake Bad Data - ALL"
   ]
  },
  {
   "cell_type": "code",
   "execution_count": null,
   "metadata": {},
   "outputs": [],
   "source": [
    "bad = np.array(data[str(runs[2])]['all_bad_samples'])"
   ]
  },
  {
   "cell_type": "code",
   "execution_count": null,
   "metadata": {},
   "outputs": [],
   "source": [
    "bad_new = []\n",
    "for l in bad:\n",
    "    if not 0 in l:\n",
    "        bad_new.append(l)\n",
    "                \n",
    "reconstructed_bad = model.predict(np.array(bad_new))\n",
    "\n",
    "error_bad = abs(bad_new-reconstructed_bad)/bad_new"
   ]
  },
  {
   "cell_type": "code",
   "execution_count": null,
   "metadata": {},
   "outputs": [],
   "source": [
    "error_reformat_bad = []\n",
    "for i in range(4):\n",
    "    error_reformat_bad.append([])\n",
    "\n",
    "for i in range(len(error_bad)):\n",
    "    for j in range(4):\n",
    "        if i == len(error_bad)-1:\n",
    "            for val in error_bad[i][WINDOW*j:WINDOW+WINDOW*j]:\n",
    "                error_reformat_bad[j].append(val)\n",
    "        else:\n",
    "            error_reformat_bad[j].append(error_bad[i][WINDOW*j])\n",
    "            \n",
    "inp_bad = []\n",
    "outp_bad = []\n",
    "for i in range(4):\n",
    "    inp_bad.append([])\n",
    "    outp_bad.append([])\n",
    "    \n",
    "for i in range(len(reconstructed_bad)):\n",
    "    for j in range(4):\n",
    "        if i == len(reconstructed_bad)-1:\n",
    "            for val in reconstructed_bad[i][WINDOW*j:WINDOW+WINDOW*j]:\n",
    "                outp_bad[j].append(val)\n",
    "            for val in bad_new[i][WINDOW*j:WINDOW+WINDOW*j]:\n",
    "                inp_bad[j].append(val)\n",
    "        else:\n",
    "            outp_bad[j].append(reconstructed_bad[i][WINDOW*j])\n",
    "            inp_bad[j].append(bad_new[i][WINDOW*j])\n",
    "            \n",
    "        "
   ]
  },
  {
   "cell_type": "code",
   "execution_count": null,
   "metadata": {},
   "outputs": [],
   "source": [
    "labels = data['HLT']\n",
    "\n",
    "#bins = np.linspace(0,1,50)\n",
    "bins = 50\n",
    "plt.figure(figsize=[20,10])\n",
    "for i in range(len(error_reformat_bad)):\n",
    "    plt.subplot(2,2,i+1)\n",
    "    plt.hist(error_reformat[i],bins=bins,label='good',alpha=.5)\n",
    "    plt.hist(error_reformat_bad[i],bins=bins,label='fake bad',alpha=.5)\n",
    "    plt.legend()\n",
    "    plt.title(labels[i])\n",
    "\n",
    "lumi = data[str(runs[2])]['lumiid'] \n",
    "print(len(error_reformat_bad[0]),len(lumi))\n",
    "#lumi = np.linspace(0,len(error_reformat_bad[0]),len(error_reformat_bad[0]))\n",
    "plt.figure(figsize=[20,10])\n",
    "for i in range(0,4):\n",
    "    plt.subplot(2,2,i+1)\n",
    "    plt.scatter(lumi,error_reformat[i],label = 'good', alpha =.5)\n",
    "    plt.scatter(lumi,error_reformat_bad[i],label='fake bad',alpha=.5)\n",
    "    plt.xlabel('lumi id')\n",
    "    plt.ylabel('error')\n",
    "    plt.legend()    \n",
    "    plt.title(labels[i])\n",
    "\n",
    "plt.show()"
   ]
  },
  {
   "cell_type": "code",
   "execution_count": null,
   "metadata": {},
   "outputs": [],
   "source": [
    "plt.figure(figsize=[10,10])\n",
    "for i in range(0,4):\n",
    "    plt.subplot(2,2,i+1)\n",
    "    plt.plot(outp_bad[i],inp_bad[i],label=labels[i], linestyle='',marker='o', markersize=3, alpha=0.5)\n",
    "    plt.xlabel('index')\n",
    "    plt.ylabel('value')\n",
    "    plt.axis('equal')\n",
    "    #plt.xlim(0,.6)\n",
    "    #plt.ylim(0,.6)\n",
    "    plt.legend()    \n",
    "\n",
    "plt.show()"
   ]
  },
  {
   "cell_type": "code",
   "execution_count": null,
   "metadata": {},
   "outputs": [],
   "source": [
    "# plt.figure(figsize=[20,10])\n",
    "# for i in range(0,4):\n",
    "#     plt.subplot(2,2,i+1)\n",
    "#     plt.scatter(lumi,inp_bad[i],label='input',alpha=.5)\n",
    "#     plt.scatter(lumi,outp_bad[i]/max(outp_bad[i]),label='output',alpha=.5)\n",
    "#     plt.xlabel('index')\n",
    "#     plt.ylabel('value')\n",
    "#     plt.legend()    \n",
    "\n",
    "# plt.show()"
   ]
  },
  {
   "cell_type": "code",
   "execution_count": null,
   "metadata": {},
   "outputs": [],
   "source": [
    "# labels = data['HLT']\n",
    "\n",
    "# #bins = np.linspace(0,1,50)\n",
    "# bins = 50\n",
    "# plt.figure(figsize=[20,10])\n",
    "# for i in range(len(error_reformat_bad)):\n",
    "#     plt.subplot(2,2,i+1)\n",
    "#     plt.hist(error_reformat_bad[i],bins=bins,label='bad',alpha=.5)\n",
    "#     plt.hist(error_reformat[i],bins=bins,label='good',alpha=.5)\n",
    "#     plt.legend()\n",
    "\n",
    "# # lumi = data[str(runs[0])]['lumiid'] \n",
    "# # print(len(error_reformat_bad[0]),len(lumi))\n",
    "# # #lumi = np.linspace(0,len(error_reformat_bad[0]),len(error_reformat_bad[0]))\n",
    "# # plt.figure(figsize=[20,10])\n",
    "# # for i in range(0,4):\n",
    "# #     plt.subplot(2,2,i+1)\n",
    "# #     plt.scatter(lumi,error_reformat_bad[i],label='bad',alpha=.5)\n",
    "# #     plt.scatter(lumi,error_reformat[i],label='good',alpha=.5)\n",
    "# #     plt.xlabel('lumi id')\n",
    "# #     plt.ylabel('error')\n",
    "# #     plt.legend()    \n",
    "\n",
    "# plt.show()"
   ]
  },
  {
   "cell_type": "markdown",
   "metadata": {},
   "source": [
    "## Real Bad Data"
   ]
  },
  {
   "cell_type": "code",
   "execution_count": null,
   "metadata": {},
   "outputs": [],
   "source": [
    "bad_runs = [301480]\n",
    "\n",
    "with open(\"bad_data_CNorm\" + str(cnorm) + \".pickle\", 'rb') as handle:\n",
    "    baddata = pickle.load(handle)\n",
    "\n",
    "x_test = np.array(baddata[str(bad_runs[0])]['samples'])"
   ]
  },
  {
   "cell_type": "code",
   "execution_count": null,
   "metadata": {},
   "outputs": [],
   "source": [
    "bad_new = []\n",
    "lumi_new = []\n",
    "\n",
    "lumiBad = baddata[str(bad_runs[0])]['lumiid']\n",
    "\n",
    "for l in range(len(x_test)):\n",
    "    if not 0 in x_test[l]:\n",
    "        bad_new.append(x_test[l])\n",
    "        for i in range(WINDOW):\n",
    "            lumi_new.append(lumiBad[l+i])\n",
    "            \n",
    "lumiBad = []\n",
    "for n in lumi_new:\n",
    "    if n not in lumiBad:\n",
    "        lumiBad.append(n)\n",
    "    \n",
    "                \n",
    "reconstructed_bad = model.predict(np.array(bad_new))\n",
    "\n",
    "error_bad = abs(bad_new-reconstructed_bad)/bad_new"
   ]
  },
  {
   "cell_type": "code",
   "execution_count": null,
   "metadata": {},
   "outputs": [],
   "source": [
    "error_reformat_bad = []\n",
    "for i in range(4):\n",
    "    error_reformat_bad.append([])\n",
    "\n",
    "for i in range(len(error_bad)):\n",
    "    for j in range(4):\n",
    "        if i == len(error_bad)-1:\n",
    "            for val in error_bad[i][WINDOW*j:WINDOW+WINDOW*j]:\n",
    "                error_reformat_bad[j].append(val)\n",
    "        else:\n",
    "            error_reformat_bad[j].append(error_bad[i][WINDOW*j])\n",
    "            \n",
    "inp_bad = []\n",
    "outp_bad = []\n",
    "for i in range(4):\n",
    "    inp_bad.append([])\n",
    "    outp_bad.append([])\n",
    "    \n",
    "for i in range(len(reconstructed_bad)):\n",
    "    for j in range(4):\n",
    "        if i == len(reconstructed_bad)-1:\n",
    "            for val in reconstructed_bad[i][WINDOW*j:WINDOW+WINDOW*j]:\n",
    "                outp_bad[j].append(val)\n",
    "            for val in bad_new[i][WINDOW*j:WINDOW+WINDOW*j]:\n",
    "                inp_bad[j].append(val)\n",
    "        else:\n",
    "            outp_bad[j].append(reconstructed_bad[i][WINDOW*j])\n",
    "            inp_bad[j].append(bad_new[i][WINDOW*j])\n",
    "            \n",
    "        "
   ]
  },
  {
   "cell_type": "code",
   "execution_count": null,
   "metadata": {},
   "outputs": [],
   "source": [
    "labels = data['HLT']\n",
    "\n",
    "#bins = np.linspace(0,1,50)\n",
    "bins = 50\n",
    "plt.figure(figsize=[20,10])\n",
    "for i in range(len(error_reformat_bad)):\n",
    "    plt.subplot(2,2,i+1)\n",
    "    plt.hist(error_reformat[i],bins=bins,label='good',alpha=.5)\n",
    "    plt.hist(error_reformat_bad[i],bins=bins,label='bad',alpha=.5)\n",
    "    plt.legend()\n",
    "    plt.title(labels[i])\n",
    "\n",
    "print(len(error_reformat_bad[0]),len(lumiBad))\n",
    "plt.figure(figsize=[20,10])\n",
    "for i in range(0,4):\n",
    "    plt.subplot(2,2,i+1)\n",
    "    plt.scatter(lumi,error_reformat[i],label = 'good', alpha =.5)\n",
    "    plt.scatter(lumiBad,error_reformat_bad[i],label='bad',alpha=.5)\n",
    "    plt.xlabel('lumi id')\n",
    "    plt.ylabel('error')\n",
    "    plt.legend()    \n",
    "    plt.title(labels[i])\n",
    "\n",
    "plt.show()"
   ]
  },
  {
   "cell_type": "code",
   "execution_count": null,
   "metadata": {},
   "outputs": [],
   "source": [
    "plt.figure(figsize=[10,10])\n",
    "for i in range(0,4):\n",
    "    plt.subplot(2,2,i+1)\n",
    "    plt.plot(outp_bad[i],inp_bad[i],label=labels[i], linestyle='',marker='o', markersize=3, alpha=0.5)\n",
    "    plt.xlabel('index')\n",
    "    plt.ylabel('value')\n",
    "    plt.axis('equal')\n",
    "    #plt.ylim(0,.6)\n",
    "    plt.legend()    \n",
    "\n",
    "plt.show()"
   ]
  },
  {
   "cell_type": "markdown",
   "metadata": {},
   "source": [
    "## Real Bad Data"
   ]
  },
  {
   "cell_type": "code",
   "execution_count": null,
   "metadata": {},
   "outputs": [],
   "source": [
    "bad_runs = [305588]\n",
    "\n",
    "with open(\"bad_data_CNorm\" + str(cnorm) + \".pickle\", 'rb') as handle:\n",
    "    baddata = pickle.load(handle)\n",
    "\n",
    "x_test = np.array(baddata[str(bad_runs[0])]['samples'])"
   ]
  },
  {
   "cell_type": "code",
   "execution_count": null,
   "metadata": {},
   "outputs": [],
   "source": [
    "bad_new = []\n",
    "lumi_new = []\n",
    "\n",
    "lumiBad = baddata[str(bad_runs[0])]['lumiid']\n",
    "\n",
    "for l in range(len(x_test)):\n",
    "    if not 0 in x_test[l]:\n",
    "        bad_new.append(x_test[l])\n",
    "        for i in range(WINDOW):\n",
    "            lumi_new.append(lumiBad[l+i])\n",
    "            \n",
    "lumiBad = []\n",
    "for n in lumi_new:\n",
    "    if n not in lumiBad:\n",
    "        lumiBad.append(n)\n",
    "    \n",
    "                \n",
    "reconstructed_bad = model.predict(np.array(bad_new))\n",
    "\n",
    "error_bad = abs(bad_new-reconstructed_bad)/bad_new"
   ]
  },
  {
   "cell_type": "code",
   "execution_count": null,
   "metadata": {},
   "outputs": [],
   "source": [
    "error_reformat_bad = []\n",
    "for i in range(4):\n",
    "    error_reformat_bad.append([])\n",
    "\n",
    "for i in range(len(error_bad)):\n",
    "    for j in range(4):\n",
    "        if i == len(error_bad)-1:\n",
    "            for val in error_bad[i][WINDOW*j:WINDOW+WINDOW*j]:\n",
    "                error_reformat_bad[j].append(val)\n",
    "        else:\n",
    "            error_reformat_bad[j].append(error_bad[i][WINDOW*j])\n",
    "            \n",
    "inp_bad = []\n",
    "outp_bad = []\n",
    "for i in range(4):\n",
    "    inp_bad.append([])\n",
    "    outp_bad.append([])\n",
    "    \n",
    "for i in range(len(reconstructed_bad)):\n",
    "    for j in range(4):\n",
    "        if i == len(reconstructed_bad)-1:\n",
    "            for val in reconstructed_bad[i][WINDOW*j:WINDOW+WINDOW*j]:\n",
    "                outp_bad[j].append(val)\n",
    "            for val in bad_new[i][WINDOW*j:WINDOW+WINDOW*j]:\n",
    "                inp_bad[j].append(val)\n",
    "        else:\n",
    "            outp_bad[j].append(reconstructed_bad[i][WINDOW*j])\n",
    "            inp_bad[j].append(bad_new[i][WINDOW*j])\n",
    "            \n",
    "        "
   ]
  },
  {
   "cell_type": "code",
   "execution_count": null,
   "metadata": {},
   "outputs": [],
   "source": [
    "labels = data['HLT']\n",
    "\n",
    "#bins = np.linspace(0,1,50)\n",
    "bins = 50\n",
    "plt.figure(figsize=[20,10])\n",
    "for i in range(len(error_reformat_bad)):\n",
    "    plt.subplot(2,2,i+1)\n",
    "    plt.hist(error_reformat[i],bins=bins,label='good',alpha=.5)\n",
    "    plt.hist(error_reformat_bad[i],bins=bins,label='bad',alpha=.5)\n",
    "    plt.legend()\n",
    "    plt.title(labels[i])\n",
    "\n",
    "print(len(error_reformat_bad[0]),len(lumiBad))\n",
    "plt.figure(figsize=[20,10])\n",
    "for i in range(0,4):\n",
    "    plt.subplot(2,2,i+1)\n",
    "    plt.scatter(lumi,error_reformat[i],label = 'good', alpha =.5)\n",
    "    plt.scatter(lumiBad,error_reformat_bad[i],label='bad',alpha=.5)\n",
    "    plt.xlabel('lumi id')\n",
    "    plt.ylabel('error')\n",
    "    plt.legend()    \n",
    "    plt.title(labels[i])\n",
    "\n",
    "plt.show()"
   ]
  },
  {
   "cell_type": "code",
   "execution_count": null,
   "metadata": {},
   "outputs": [],
   "source": [
    "plt.figure(figsize=[10,10])\n",
    "for i in range(0,4):\n",
    "    plt.subplot(2,2,i+1)\n",
    "    plt.plot(outp_bad[i],inp_bad[i],label=labels[i], linestyle='',marker='o', markersize=3, alpha=0.5)\n",
    "    plt.xlabel('index')\n",
    "    plt.ylabel('value')\n",
    "    plt.axis('equal')\n",
    "    #plt.ylim(0,.6)\n",
    "    plt.legend()    \n",
    "\n",
    "plt.show()"
   ]
  },
  {
   "cell_type": "code",
   "execution_count": null,
   "metadata": {},
   "outputs": [],
   "source": []
  },
  {
   "cell_type": "code",
   "execution_count": null,
   "metadata": {},
   "outputs": [],
   "source": []
  },
  {
   "cell_type": "code",
   "execution_count": null,
   "metadata": {},
   "outputs": [],
   "source": []
  },
  {
   "cell_type": "code",
   "execution_count": null,
   "metadata": {},
   "outputs": [],
   "source": []
  },
  {
   "cell_type": "code",
   "execution_count": null,
   "metadata": {},
   "outputs": [],
   "source": []
  },
  {
   "cell_type": "code",
   "execution_count": null,
   "metadata": {},
   "outputs": [],
   "source": []
  },
  {
   "cell_type": "code",
   "execution_count": null,
   "metadata": {},
   "outputs": [],
   "source": []
  }
 ],
 "metadata": {
  "kernelspec": {
   "display_name": "Python 3",
   "language": "python",
   "name": "python3"
  },
  "language_info": {
   "codemirror_mode": {
    "name": "ipython",
    "version": 3
   },
   "file_extension": ".py",
   "mimetype": "text/x-python",
   "name": "python",
   "nbconvert_exporter": "python",
   "pygments_lexer": "ipython3",
   "version": "3.6.4"
  }
 },
 "nbformat": 4,
 "nbformat_minor": 2
}
