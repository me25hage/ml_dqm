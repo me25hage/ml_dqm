{
 "cells": [
  {
   "cell_type": "code",
   "execution_count": 18,
   "metadata": {},
   "outputs": [],
   "source": [
    "import numpy as np\n",
    "import os\n",
    "import pickle\n",
    "import matplotlib.pylab as plt"
   ]
  },
  {
   "cell_type": "code",
   "execution_count": 19,
   "metadata": {},
   "outputs": [],
   "source": [
    "good_runs = [304125, 302263, 302597, 300157, 304508]\n",
    "bad_runs =  [301480, 302566, 299592, 305588, 297659, 306425]\n",
    "\n",
    "# ECAL Bad: 306425, 302566, 301480, 297659\n",
    "# HCAL Bad: 305588, 299592"
   ]
  },
  {
   "cell_type": "code",
   "execution_count": 20,
   "metadata": {},
   "outputs": [],
   "source": [
    "train_run = 304125\n",
    "test_run = 302597\n",
    "val_run = 302263\n",
    "os.chdir(\"../../../data\")\n",
    "\n",
    "paths = []\n",
    "\n",
    "os.chdir(str(train_run))\n",
    "paths.append(\"../../../data/\" + str(train_run) + \"/\")\n",
    "command = os.popen('ls')\n",
    "ls = command.read()\n",
    "f = ls.split(\"\\n\")\n",
    "train_files = [x for x in f if len(x) != 0 and \".npy\" in x and \"HLT\" in x]\n",
    "os.chdir(\"../\")\n",
    "\n",
    "os.chdir(str(test_run))\n",
    "paths.append(\"../../../data/\" + str(test_run) + \"/\")\n",
    "command = os.popen('ls')\n",
    "ls = command.read()\n",
    "f = ls.split(\"\\n\")\n",
    "test_files = [x for x in f if len(x) != 0 and \".npy\" in x and x in train_files]\n",
    "os.chdir(\"../\")\n",
    "\n",
    "train_files = [x for x in train_files if x in test_files]\n",
    "\n",
    "os.chdir(str(val_run))\n",
    "paths.append(\"../../../data/\" + str(val_run) + \"/\")\n",
    "command = os.popen('ls')\n",
    "ls = command.read()\n",
    "f = ls.split(\"\\n\")\n",
    "val_files = [x for x in f if len(x) != 0 and \".npy\" in x and x in train_files]\n",
    "os.chdir(\"../\")\n",
    "\n",
    "os.chdir(\"../SWAN_projects/ml_dqm/ml_dqm\")\n",
    "#print(val_files)\n",
    "\n",
    "filenames = ['HLT_AK8PFJetFwd260.npy','HLT_Ele200_CaloIdVT_GsfTrkIdT.npy',\n",
    "             'HLT_Photon120.npy','HLT_Mu20.npy']\n",
    "numfiles = 4"
   ]
  },
  {
   "cell_type": "code",
   "execution_count": 21,
   "metadata": {},
   "outputs": [],
   "source": [
    "train_data = []\n",
    "test_data = []\n",
    "val_data = []\n",
    "for f in filenames:\n",
    "    train_data.append(np.load(paths[0] + f))\n",
    "    test_data.append(np.load(paths[1] + f))\n",
    "    val_data.append(np.load(paths[2] + f))\n",
    "train_data = [x for x in train_data if len(x[0]) != 0]\n",
    "test_data = [x for x in test_data if len(x[0]) != 0]\n",
    "val_data = [x for x in val_data if len(x[0]) != 0]"
   ]
  },
  {
   "cell_type": "markdown",
   "metadata": {},
   "source": [
    "## Training"
   ]
  },
  {
   "cell_type": "code",
   "execution_count": 22,
   "metadata": {},
   "outputs": [],
   "source": [
    "train_rates = []\n",
    "train_pileup = []\n",
    "for d in train_data[0:numfiles]:\n",
    "    train_rates.append(d[1])\n",
    "    train_pileup.append(d[0])\n",
    "\n",
    "c = set(train_pileup[0])\n",
    "for p in range(1,len(train_pileup)):\n",
    "    temp = set(train_pileup[p])\n",
    "    c = c.intersection(temp)\n",
    "    #print(len(c.intersection(temp)))\n",
    "c = list(c)\n",
    "c = [x for x in c if x >= 18]\n",
    "train_samples = np.zeros([len(c),numfiles])\n",
    "train_samplesP = np.zeros([len(c),numfiles+1])\n",
    "\n",
    "for p in range(0,len(train_pileup)):\n",
    "    for q in range(0,len(train_pileup[p])):\n",
    "        for k in range(0,len(c)):\n",
    "            if train_pileup[p][q] == c[k]:\n",
    "                train_samplesP[k,0] = c[k]\n",
    "                train_samplesP[k,p+1] = train_rates[p][q]\n",
    "                train_samples[k,p] = train_rates[p][q]\n",
    "                break\n",
    "                \n",
    "for i in range(0,len(train_samples)):\n",
    "    raw = sum(train_samples[i,:])\n",
    "    rawP = sum(train_samplesP[i,:])\n",
    "    for j in range(0,numfiles):\n",
    "        train_samples[i,j] = train_samples[i,j]/raw\n",
    "    for j in range(0,numfiles+1):\n",
    "        train_samplesP[i,j] = train_samplesP[i,j]/rawP\n",
    "\n",
    "Xtrain = train_samples\n",
    "XtrainP = train_samplesP"
   ]
  },
  {
   "cell_type": "markdown",
   "metadata": {},
   "source": [
    "## Test"
   ]
  },
  {
   "cell_type": "code",
   "execution_count": 23,
   "metadata": {},
   "outputs": [
    {
     "name": "stdout",
     "output_type": "stream",
     "text": [
      "[[  1.04541860e-02   8.78502985e-04   4.77905644e-02   9.40876747e-01]\n",
      " [  9.50810092e-03   1.06723581e-03   7.25720379e-02   9.16852625e-01]\n",
      " [  1.25683509e-02   8.97739332e-04   6.10462792e-02   9.25487631e-01]\n",
      " ..., \n",
      " [  1.51574804e-02   1.18110246e-03   5.35433095e-02   9.30118108e-01]\n",
      " [  1.11856828e-02   7.45712139e-04   4.84712900e-02   9.39597315e-01]\n",
      " [  1.27272724e-02   1.36363638e-03   6.54545442e-02   9.20454547e-01]]\n"
     ]
    }
   ],
   "source": [
    "test_rates = []\n",
    "test_pileup = []\n",
    "for d in test_data[0:numfiles]:\n",
    "    test_rates.append(d[1])\n",
    "    test_pileup.append(d[0])\n",
    "\n",
    "c = set(test_pileup[0])\n",
    "for p in range(1,len(test_pileup)):\n",
    "    temp = set(test_pileup[p])\n",
    "    c = c.intersection(temp)\n",
    "    #print(len(c.intersection(temp)))\n",
    "c = list(c)\n",
    "c = [x for x in c if x >= 18]\n",
    "\n",
    "test_samples = np.zeros([len(c),numfiles])\n",
    "test_samplesP = np.zeros([len(c),numfiles+1])\n",
    "    \n",
    "for p in range(0,len(test_pileup)):\n",
    "    for q in range(0,len(test_pileup[p])):\n",
    "        #print(pileup[p][q],c[k])\n",
    "        for k in range(0,len(c)):\n",
    "            if test_pileup[p][q] == c[k]:\n",
    "                test_samplesP[k,0] = c[k]\n",
    "                test_samplesP[k,p+1] = test_rates[p][q]\n",
    "                test_samples[k,p] = test_rates[p][q]\n",
    "                break\n",
    "\n",
    "for i in range(0,len(test_samples)):\n",
    "    raw = sum(test_samples[i,:])\n",
    "    rawP = sum(test_samplesP[i,:])\n",
    "    for j in range(0,numfiles):\n",
    "        test_samples[i,j] = test_samples[i,j]/raw\n",
    "    for j in range(0,numfiles+1):\n",
    "        test_samplesP[i,j] = test_samplesP[i,j]/rawP\n",
    "\n",
    "Xtest = test_samples\n",
    "XtestP = test_samplesP\n",
    "\n",
    "print(Xtest)"
   ]
  },
  {
   "cell_type": "markdown",
   "metadata": {},
   "source": [
    "## Validation"
   ]
  },
  {
   "cell_type": "code",
   "execution_count": 24,
   "metadata": {},
   "outputs": [],
   "source": [
    "val_rates = []\n",
    "val_pileup = []\n",
    "for d in val_data[0:numfiles]:\n",
    "    val_rates.append(d[1])\n",
    "    val_pileup.append(d[0])\n",
    "\n",
    "c = set(val_pileup[0])\n",
    "for p in range(1,len(val_pileup)):\n",
    "    temp = set(val_pileup[p])\n",
    "    c = c.intersection(temp)\n",
    "    #print(len(c.intersection(temp)))\n",
    "c = list(c)\n",
    "c = [x for x in c if x >= 18]\n",
    "\n",
    "val_samples = np.zeros([len(c),numfiles])\n",
    "val_samplesP = np.zeros([len(c),numfiles+1])\n",
    "\n",
    "for p in range(0,len(val_pileup)):\n",
    "    for q in range(0,len(val_pileup[p])):\n",
    "        #print(pileup[p][q],c[k])\n",
    "        for k in range(0,len(c)):\n",
    "            if val_pileup[p][q] == c[k]:\n",
    "                val_samplesP[k,0] = c[k]\n",
    "                val_samplesP[k,p+1] = val_rates[p][q]\n",
    "                val_samples[k,p] = val_rates[p][q]\n",
    "                break\n",
    "                \n",
    "for i in range(0,len(val_samples)):\n",
    "    raw = sum(val_samples[i,:])\n",
    "    rawP = sum(val_samplesP[i,:])\n",
    "    for j in range(0,numfiles):\n",
    "        val_samples[i,j] = val_samples[i,j]/raw\n",
    "    for j in range(0,numfiles+1):\n",
    "        val_samplesP[i,j] = val_samplesP[i,j]/rawP\n",
    "                                \n",
    "Xval = val_samples\n",
    "XvalP = val_samplesP"
   ]
  },
  {
   "cell_type": "code",
   "execution_count": 38,
   "metadata": {},
   "outputs": [
    {
     "name": "stdout",
     "output_type": "stream",
     "text": [
      "[[  1.04541860e-02   8.78502985e-04   4.77905644e-02   9.40876747e-01]\n",
      " [  9.50810092e-03   1.06723581e-03   7.25720379e-02   9.16852625e-01]\n",
      " [  1.25683509e-02   8.97739332e-04   6.10462792e-02   9.25487631e-01]\n",
      " ..., \n",
      " [  1.51574804e-02   1.18110246e-03   5.35433095e-02   9.30118108e-01]\n",
      " [  1.11856828e-02   7.45712139e-04   4.84712900e-02   9.39597315e-01]\n",
      " [  1.27272724e-02   1.36363638e-03   6.54545442e-02   9.20454547e-01]]\n"
     ]
    }
   ],
   "source": [
    "dataPileup = {'train': XtrainP, 'test': XtestP, 'validation': XvalP}\n",
    "data = {'train': Xtrain, 'test': Xtest, 'validation': Xval}\n",
    "\n",
    "print(Xtest)"
   ]
  },
  {
   "cell_type": "code",
   "execution_count": 26,
   "metadata": {},
   "outputs": [],
   "source": [
    "with open('dataPileup.pickle', 'wb') as handle:\n",
    "    pickle.dump(dataPileup, handle, protocol=pickle.HIGHEST_PROTOCOL)\n",
    "with open('data.pickle', 'wb') as handle:\n",
    "    pickle.dump(data, handle, protocol=pickle.HIGHEST_PROTOCOL)"
   ]
  },
  {
   "cell_type": "code",
   "execution_count": 27,
   "metadata": {},
   "outputs": [
    {
     "data": {
      "image/png": "[encoded data removed]",
      "text/plain": [
       "<matplotlib.figure.Figure at 0x7fc16f5fa290>"
      ]
     },
     "metadata": {},
     "output_type": "display_data"
    },
    {
     "data": {
      "image/png": "[encoded data removed]",
      "text/plain": [
       "<matplotlib.figure.Figure at 0x7fc16341ecd0>"
      ]
     },
     "metadata": {},
     "output_type": "display_data"
    },
    {
     "data": {
      "image/png": "[encoded data removed]",
      "text/plain": [
       "<matplotlib.figure.Figure at 0x7fc163243710>"
      ]
     },
     "metadata": {},
     "output_type": "display_data"
    },
    {
     "data": {
      "image/png": "[encoded data removed]",
      "text/plain": [
       "<matplotlib.figure.Figure at 0x7fc1630d6b10>"
      ]
     },
     "metadata": {},
     "output_type": "display_data"
    }
   ],
   "source": [
    "for i in range(len(test_pileup)):\n",
    "    plt.figure()\n",
    "    plt.hist(test_pileup[i],bins=30,label='test',alpha=.4)\n",
    "    plt.hist(train_pileup[i],bins=30,label='train',alpha=.4)\n",
    "    plt.hist(val_pileup[i],bins=30,label='val',alpha=.4)\n",
    "    plt.hist(c,bins=30,alpha=.4)\n",
    "    plt.legend()\n",
    "\n",
    "plt.show()\n"
   ]
  },
  {
   "cell_type": "markdown",
   "metadata": {},
   "source": [
    "## Fake bad data\n",
    "\n",
    "### One bad rate"
   ]
  },
  {
   "cell_type": "code",
   "execution_count": 28,
   "metadata": {},
   "outputs": [],
   "source": [
    "b = np.ones(XtestP.shape)\n",
    "rows = XtestP.shape[0]\n",
    "cols = XtestP.shape[1]\n",
    "\n",
    "for i in range(rows):\n",
    "    for j in range(cols):\n",
    "        b[i,j] = XtestP[i,j]\n",
    "        if j == 4:\n",
    "            b[i,j]*=10\n",
    "            \n",
    "baddata = {'train': Xtrain, 'test': b, 'validation': Xval}\n",
    "with open('badratePileup.pickle', 'wb') as handle:\n",
    "    pickle.dump(baddata, handle, protocol=pickle.HIGHEST_PROTOCOL)"
   ]
  },
  {
   "cell_type": "code",
   "execution_count": 29,
   "metadata": {},
   "outputs": [
    {
     "name": "stdout",
     "output_type": "stream",
     "text": [
      "(1027, 4)\n"
     ]
    }
   ],
   "source": [
    "b = np.ones(Xtest.shape)\n",
    "rows = Xtest.shape[0]\n",
    "cols = Xtest.shape[1]\n",
    "\n",
    "print(rows,cols)\n",
    "\n",
    "for i in range(rows):\n",
    "    for j in range(cols):\n",
    "        b[i,j] = Xtest[i,j]\n",
    "        if j == 3:\n",
    "            b[i,j]*=10\n",
    "            \n",
    "baddata = {'train': Xtrain, 'test': b, 'validation': Xval}\n",
    "with open('badrate.pickle', 'wb') as handle:\n",
    "    pickle.dump(baddata, handle, protocol=pickle.HIGHEST_PROTOCOL)"
   ]
  },
  {
   "cell_type": "markdown",
   "metadata": {},
   "source": [
    "### All bad rates"
   ]
  },
  {
   "cell_type": "code",
   "execution_count": 30,
   "metadata": {},
   "outputs": [],
   "source": [
    "c = np.ones(Xtest.shape)\n",
    "rows = Xtest.shape[0]\n",
    "cols = Xtest.shape[1]\n",
    "\n",
    "for i in range(rows):\n",
    "    for j in range(cols):\n",
    "        c[i,j] = Xtest[i,j]*7\n",
    "            \n",
    "allbaddata = {'train': Xtrain, 'test': c, 'validation': Xval}\n",
    "with open('allbadrates.pickle', 'wb') as handle:\n",
    "    pickle.dump(allbaddata, handle, protocol=pickle.HIGHEST_PROTOCOL)\n"
   ]
  },
  {
   "cell_type": "code",
   "execution_count": 31,
   "metadata": {},
   "outputs": [],
   "source": [
    "c = np.ones(XtestP.shape)\n",
    "rows = XtestP.shape[0]\n",
    "cols = XtestP.shape[1]\n",
    "\n",
    "for i in range(rows):\n",
    "    for j in range(cols):\n",
    "        if i != 0:\n",
    "            c[i,j] = XtestP[i,j]*5\n",
    "            \n",
    "allbaddata = {'train': Xtrain, 'test': c, 'validation': Xval}\n",
    "with open('allbadratesPileup.pickle', 'wb') as handle:\n",
    "    pickle.dump(allbaddata, handle, protocol=pickle.HIGHEST_PROTOCOL)"
   ]
  },
  {
   "cell_type": "markdown",
   "metadata": {},
   "source": [
    "## All Files"
   ]
  },
  {
   "cell_type": "code",
   "execution_count": 32,
   "metadata": {},
   "outputs": [],
   "source": [
    "os.chdir(\"../../../new_data\")\n",
    "\n",
    "files = good_runs + bad_runs\n",
    "\n",
    "all_files = []\n",
    "paths = []\n",
    "for f in range(len(files)):\n",
    "    if f == 0:\n",
    "        os.chdir(str(files[f]))\n",
    "        paths.append(\"../../../new_data/\" + str(files[f]) + \"/\")\n",
    "        command = os.popen('ls')\n",
    "        ls = command.read()\n",
    "        fil = ls.split(\"\\n\")\n",
    "        all_files = set([x for x in fil if len(x) != 0 and \".npy\" in x and \"HLT\" in x])\n",
    "        os.chdir(\"../\")\n",
    "    else:\n",
    "        os.chdir(str(files[f]))\n",
    "        paths.append(\"../../../new_data/\" + str(files[f]) + \"/\")\n",
    "        command = os.popen('ls')\n",
    "        ls = command.read()\n",
    "        fi = ls.split(\"\\n\")\n",
    "        temp = set([x for x in fi if len(x) != 0 and \".npy\" in x and \"HLT\" in x])\n",
    "        all_files = all_files.intersection(temp)\n",
    "        os.chdir(\"../\")\n",
    "\n",
    "os.chdir(\"../SWAN_projects/ml_dqm/ml_dqm\")\n",
    "numfiles = len(all_files)\n",
    "all_files = list(all_files)"
   ]
  },
  {
   "cell_type": "code",
   "execution_count": 33,
   "metadata": {},
   "outputs": [],
   "source": [
    "#print(all_files)\n",
    "\n",
    "all_files = ['HLT_PFMET120_PFMHT120_IDTight.npy','HLT_IsoMu20.npy','HLT_Photon90.npy','HLT_PFJet60.npy']\n",
    "numfiles = 4\n",
    "gdata = []\n",
    "bdata = []\n",
    "for run in range(len(good_runs)):\n",
    "    gdata.append([])\n",
    "    for f in all_files:\n",
    "        gdata[run].append(np.load('../../../new_data/' + str(good_runs[run]) + '/' + f))\n",
    "    gdata[run] = [x for x in gdata[run] if len(x[0]) != 0]\n",
    "for run in range(len(bad_runs)):\n",
    "    bdata.append([])\n",
    "    for f in all_files:\n",
    "        bdata[run].append(np.load('../../../new_data/' + str(bad_runs[run]) + '/' + f))\n",
    "    bdata[run] = [x for x in bdata[run] if len(x[0]) != 0]"
   ]
  },
  {
   "cell_type": "code",
   "execution_count": 34,
   "metadata": {},
   "outputs": [],
   "source": [
    "good_data = {}\n",
    "good_runs = [304125, 302263, 302597, 300157, 304508]\n",
    "ranges = [[1,1769],[1,1250],[1,1054],[9,1107],[1,1324]]\n",
    "for r in range(len(good_runs)):\n",
    "    rates = []\n",
    "    pileup = []\n",
    "    ls = []\n",
    "    good_data.update({str(good_runs[r]) : {}})\n",
    "    for d in range(len(gdata[r])):\n",
    "        rates.append(gdata[r][d][1][ranges[d][0]:ranges[d][1]])\n",
    "        pileup.append(gdata[r][d][0][ranges[d][0]:ranges[d][1]])\n",
    "        ls.append(gdata[r][d][5][ranges[d][0]:ranges[d][1]])\n",
    "    \n",
    "    c = set(ls[0])\n",
    "    for p in range(1,len(ls)):\n",
    "        temp = set(ls[p])\n",
    "        c = c.intersection(temp)\n",
    "        #print(len(c.intersection(temp)))\n",
    "    c = list(c)\n",
    "\n",
    "    samples = np.zeros([len(c),numfiles])\n",
    "    samplesPileup = np.zeros([len(c),numfiles+1])\n",
    "\n",
    "    for p in range(0,len(ls)):\n",
    "        for q in range(0,len(ls[p])):\n",
    "            for k in range(0,len(c)):\n",
    "                if ls[p][q] == c[k]:\n",
    "                    samplesPileup[k,0] = pileup[p][q]\n",
    "                    samplesPileup[k,p+1] = rates[p][q]\n",
    "                    samples[k,p] = rates[p][q]\n",
    "                    break\n",
    "\n",
    "    for i in range(0,len(samples)):\n",
    "        raw = sum(samples[i,:])\n",
    "        rawP = sum(samplesPileup[i,:])\n",
    "        if raw == 0 or rawP == 0:\n",
    "            print(good_runs[r],i,raw,rawP)\n",
    "        for j in range(0,numfiles):\n",
    "            samples[i,j] = samples[i,j]/raw\n",
    "        for j in range(0,numfiles+1):\n",
    "            samplesPileup[i,j] = samplesPileup[i,j]/rawP\n",
    "\n",
    "    good_data[str(good_runs[r])].update({'sample' : samples})\n",
    "    good_data[str(good_runs[r])].update({'sample_pileup' : samplesPileup})\n",
    "    good_data[str(good_runs[r])].update({'lumiid' : c})"
   ]
  },
  {
   "cell_type": "code",
   "execution_count": 35,
   "metadata": {},
   "outputs": [
    {
     "name": "stdout",
     "output_type": "stream",
     "text": [
      "(2, 0, 0.0)\n",
      "(2, 1, 0.0)\n",
      "(2, 2, 0.0)\n",
      "(2, 3, 0.0)\n",
      "(2, 4, 0.0)\n",
      "(2, 5, 0.0)\n",
      "(2, 6, 0.0)\n",
      "(2, 7, 0.0)\n",
      "(2, 8, 0.0)\n",
      "(2, 9, 0.0)\n",
      "(2, 10, 0.0)\n",
      "(2, 11, 0.0)\n",
      "(2, 12, 0.0)\n",
      "(2, 13, 0.0)\n",
      "(2, 14, 0.0)\n",
      "(2, 15, 0.0)\n",
      "(2, 16, 0.0)\n",
      "(2, 17, 0.0)\n",
      "(2, 18, 0.0)\n",
      "(2, 19, 0.0)\n",
      "(2, 20, 0.0)\n",
      "(4, 0, 0.0)\n",
      "(4, 1, 0.0)\n",
      "(4, 2, 0.0)\n",
      "(5, 0, 0.0)\n",
      "(5, 1, 0.0)\n",
      "(5, 2, 0.0)\n",
      "(5, 3, 0.0)\n",
      "(5, 4, 0.0)\n",
      "(5, 5, 0.0)\n",
      "(5, 6, 0.0)\n",
      "(5, 7, 0.0)\n",
      "(5, 8, 0.0)\n",
      "(5, 9, 0.0)\n",
      "(5, 10, 0.0)\n",
      "(5, 11, 0.0)\n",
      "(5, 12, 0.0)\n",
      "(5, 13, 0.0)\n",
      "(5, 14, 0.0)\n",
      "(5, 15, 0.0)\n",
      "(5, 16, 0.0)\n",
      "(5, 17, 0.0)\n",
      "(5, 18, 0.0)\n",
      "(5, 19, 0.0)\n",
      "(5, 20, 0.0)\n",
      "(5, 21, 0.0)\n",
      "(5, 22, 0.0)\n",
      "(5, 23, 0.0)\n",
      "(5, 24, 0.0)\n",
      "(5, 25, 0.0)\n",
      "(5, 26, 0.0)\n",
      "(5, 27, 0.0)\n",
      "(5, 28, 0.0)\n",
      "(5, 29, 0.0)\n",
      "(5, 30, 0.0)\n",
      "(5, 31, 0.0)\n",
      "(5, 32, 0.0)\n",
      "(5, 33, 0.0)\n",
      "(5, 34, 0.0)\n",
      "(5, 35, 0.0)\n",
      "(5, 36, 0.0)\n",
      "(5, 37, 0.0)\n",
      "(5, 38, 0.0)\n",
      "(5, 39, 0.0)\n",
      "(5, 40, 0.0)\n",
      "(5, 41, 0.0)\n",
      "(5, 42, 0.0)\n",
      "(5, 43, 0.0)\n",
      "(5, 44, 0.0)\n",
      "(5, 45, 0.0)\n",
      "(5, 46, 0.0)\n",
      "(5, 47, 0.0)\n",
      "(5, 48, 0.0)\n",
      "(5, 49, 0.0)\n",
      "(5, 50, 0.0)\n",
      "(5, 51, 0.0)\n",
      "(5, 52, 0.0)\n",
      "(5, 53, 0.0)\n",
      "(5, 54, 0.0)\n",
      "(5, 55, 0.0)\n",
      "(5, 56, 0.0)\n",
      "(5, 57, 0.0)\n",
      "(5, 58, 0.0)\n",
      "(5, 59, 0.0)\n",
      "(5, 60, 0.0)\n",
      "(5, 61, 0.0)\n",
      "(5, 62, 0.0)\n",
      "(5, 63, 0.0)\n",
      "(5, 64, 0.0)\n",
      "(5, 65, 0.0)\n",
      "(5, 66, 0.0)\n",
      "(5, 67, 0.0)\n",
      "(5, 68, 0.0)\n",
      "(5, 69, 0.0)\n",
      "(5, 70, 0.0)\n",
      "(5, 71, 0.0)\n",
      "(5, 72, 0.0)\n",
      "(5, 73, 0.0)\n",
      "(5, 74, 0.0)\n",
      "(5, 75, 0.0)\n",
      "(5, 76, 0.0)\n",
      "(5, 77, 0.0)\n",
      "(5, 78, 0.0)\n",
      "(5, 79, 0.0)\n",
      "(5, 80, 0.0)\n",
      "(5, 81, 0.0)\n",
      "(5, 82, 0.0)\n",
      "(5, 83, 0.0)\n",
      "(5, 84, 0.0)\n",
      "(5, 85, 0.0)\n",
      "(5, 86, 0.0)\n",
      "(5, 87, 0.0)\n",
      "(5, 88, 0.0)\n",
      "(5, 89, 0.0)\n",
      "(5, 90, 0.0)\n",
      "(5, 91, 0.0)\n",
      "(5, 92, 0.0)\n",
      "(5, 93, 0.0)\n",
      "(5, 94, 0.0)\n",
      "(5, 95, 0.0)\n",
      "(5, 96, 0.0)\n",
      "(5, 97, 0.0)\n",
      "(5, 98, 0.0)\n",
      "(5, 99, 0.0)\n",
      "(5, 100, 0.0)\n",
      "(5, 101, 0.0)\n",
      "(5, 102, 0.0)\n",
      "(5, 103, 0.0)\n",
      "(5, 104, 0.0)\n",
      "(5, 105, 0.0)\n",
      "(5, 106, 0.0)\n",
      "(5, 107, 0.0)\n",
      "(5, 108, 0.0)\n",
      "(5, 109, 0.0)\n",
      "(5, 110, 0.0)\n",
      "(5, 111, 0.0)\n",
      "(5, 112, 0.0)\n",
      "(5, 113, 0.0)\n",
      "(5, 114, 0.0)\n",
      "(5, 115, 0.0)\n",
      "(5, 116, 0.0)\n",
      "(5, 117, 0.0)\n",
      "(5, 118, 0.0)\n",
      "(5, 119, 0.0)\n",
      "(5, 120, 0.0)\n",
      "(5, 121, 0.0)\n",
      "(5, 122, 0.0)\n",
      "(5, 123, 0.0)\n",
      "(5, 124, 0.0)\n",
      "(5, 125, 0.0)\n",
      "(5, 126, 0.0)\n",
      "(5, 127, 0.0)\n",
      "(5, 128, 0.0)\n",
      "(5, 129, 0.0)\n",
      "(5, 130, 0.0)\n",
      "(5, 131, 0.0)\n",
      "(5, 132, 0.0)\n",
      "(5, 133, 0.0)\n",
      "(5, 134, 0.0)\n",
      "(5, 135, 0.0)\n",
      "(5, 136, 0.0)\n",
      "(5, 137, 0.0)\n",
      "(5, 138, 0.0)\n",
      "(5, 139, 0.0)\n",
      "(5, 140, 0.0)\n",
      "(5, 141, 0.0)\n",
      "(5, 142, 0.0)\n",
      "(5, 143, 0.0)\n",
      "(5, 144, 0.0)\n",
      "(5, 145, 0.0)\n",
      "(5, 146, 0.0)\n",
      "(5, 147, 0.0)\n",
      "(5, 148, 0.0)\n",
      "(5, 149, 0.0)\n",
      "(5, 150, 0.0)\n",
      "(5, 151, 0.0)\n",
      "(5, 152, 0.0)\n",
      "(5, 153, 0.0)\n",
      "(5, 154, 0.0)\n",
      "(5, 155, 0.0)\n",
      "(5, 156, 0.0)\n",
      "(5, 157, 0.0)\n",
      "(5, 158, 0.0)\n",
      "(5, 159, 0.0)\n",
      "(5, 160, 0.0)\n",
      "(5, 161, 0.0)\n",
      "(5, 162, 0.0)\n",
      "(5, 163, 0.0)\n",
      "(5, 164, 0.0)\n",
      "(5, 165, 0.0)\n"
     ]
    },
    {
     "name": "stderr",
     "output_type": "stream",
     "text": [
      "/cvmfs/sft.cern.ch/lcg/views/LCG_93/x86_64-slc6-gcc62-opt/lib/python2.7/site-packages/ipykernel/__main__.py:39: RuntimeWarning: invalid value encountered in double_scalars\n"
     ]
    }
   ],
   "source": [
    "bad_data = {}\n",
    "bad_runs =  [301480, 302566, 299592, 305588, 297659, 306425]\n",
    "for r in range(len(bad_runs)):\n",
    "    rates = []\n",
    "    pileup = []\n",
    "    ls = []\n",
    "    bad_data.update({str(bad_runs[r]) : {}})\n",
    "    for d in bdata[r]:\n",
    "        rates.append(d[1])\n",
    "        pileup.append(d[0])\n",
    "        ls.append(d[5])\n",
    "    \n",
    "    c = set(ls[0])\n",
    "    for p in range(1,len(ls)):\n",
    "        temp = set(ls[p])\n",
    "        c = c.intersection(temp)\n",
    "        #print(len(c.intersection(temp)))\n",
    "    c = list(c)\n",
    "\n",
    "    samples = np.zeros([len(c),numfiles])\n",
    "    samplesPileup = np.zeros([len(c),numfiles+1])\n",
    "\n",
    "    for p in range(0,len(ls)):\n",
    "        for q in range(0,len(ls[p])):\n",
    "            for k in range(0,len(c)):\n",
    "                if ls[p][q] == c[k]:\n",
    "                    samplesPileup[k,0] = pileup[p][q]\n",
    "                    samplesPileup[k,p+1] = rates[p][q]\n",
    "                    samples[k,p] = rates[p][q]\n",
    "                    break\n",
    "\n",
    "    for i in range(0,len(samples)):\n",
    "        raw = sum(samples[i,:])\n",
    "        rawP = sum(samplesPileup[i,:])\n",
    "        \n",
    "        if raw == 0 or rawP == 0:\n",
    "            print(r,i,raw)\n",
    "        for j in range(0,numfiles):\n",
    "            samples[i,j] = samples[i,j]/raw\n",
    "        for j in range(0,numfiles+1):\n",
    "            samplesPileup[i,j] = samplesPileup[i,j]/rawP\n",
    "\n",
    "    bad_data[str(bad_runs[r])].update({'sample' : samples})\n",
    "    bad_data[str(bad_runs[r])].update({'sample_pileup' : samplesPileup})\n",
    "    bad_data[str(bad_runs[r])].update({'lumiid' : c})"
   ]
  },
  {
   "cell_type": "code",
   "execution_count": 36,
   "metadata": {},
   "outputs": [],
   "source": [
    "with open('good_data.pickle', 'wb') as handle:\n",
    "    pickle.dump(good_data, handle, protocol=pickle.HIGHEST_PROTOCOL)\n",
    "    \n",
    "with open('bad_data.pickle', 'wb') as handle:\n",
    "    pickle.dump(bad_data, handle, protocol=pickle.HIGHEST_PROTOCOL)"
   ]
  },
  {
   "cell_type": "code",
   "execution_count": null,
   "metadata": {},
   "outputs": [],
   "source": []
  },
  {
   "cell_type": "code",
   "execution_count": 37,
   "metadata": {},
   "outputs": [
    {
     "name": "stdout",
     "output_type": "stream",
     "text": [
      "1045\n"
     ]
    }
   ],
   "source": [
    "print(len(good_data['304125']['lumiid']))\n"
   ]
  },
  {
   "cell_type": "code",
   "execution_count": null,
   "metadata": {},
   "outputs": [],
   "source": []
  },
  {
   "cell_type": "code",
   "execution_count": null,
   "metadata": {},
   "outputs": [],
   "source": []
  },
  {
   "cell_type": "code",
   "execution_count": null,
   "metadata": {},
   "outputs": [],
   "source": []
  },
  {
   "cell_type": "code",
   "execution_count": null,
   "metadata": {},
   "outputs": [],
   "source": []
  }
 ],
 "metadata": {
  "kernelspec": {
   "display_name": "Python 2",
   "language": "python",
   "name": "python2"
  },
  "language_info": {
   "codemirror_mode": {
    "name": "ipython",
    "version": 2
   },
   "file_extension": ".py",
   "mimetype": "text/x-python",
   "name": "python",
   "nbconvert_exporter": "python",
   "pygments_lexer": "ipython2",
   "version": "2.7.13"
  }
 },
 "nbformat": 4,
 "nbformat_minor": 2
}
