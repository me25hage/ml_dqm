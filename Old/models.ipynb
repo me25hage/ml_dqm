{
 "cells": [
  {
   "cell_type": "code",
   "execution_count": 15,
   "metadata": {},
   "outputs": [],
   "source": [
    "import pickle\n",
    "from keras.layers import Input, Dense, BatchNormalization, Activation\n",
    "from keras.models import Sequential, Model\n",
    "from keras.utils import plot_model"
   ]
  },
  {
   "cell_type": "markdown",
   "metadata": {},
   "source": [
    "## Input Information"
   ]
  },
  {
   "cell_type": "code",
   "execution_count": 38,
   "metadata": {},
   "outputs": [],
   "source": [
    "with open('good_data.pickle', 'rb') as handle:\n",
    "    b = pickle.load(handle)"
   ]
  },
  {
   "cell_type": "code",
   "execution_count": 39,
   "metadata": {},
   "outputs": [
    {
     "name": "stdout",
     "output_type": "stream",
     "text": [
      "Tensor(\"input_13:0\", shape=(?, 4), dtype=float32)\n"
     ]
    }
   ],
   "source": [
    "input_cols = len(b['304125']['sample'][0])\n",
    "input_shape = Input(shape=(input_cols,))\n",
    "\n",
    "print input_shape"
   ]
  },
  {
   "cell_type": "markdown",
   "metadata": {},
   "source": [
    "## Model 1"
   ]
  },
  {
   "cell_type": "code",
   "execution_count": 40,
   "metadata": {},
   "outputs": [
    {
     "name": "stdout",
     "output_type": "stream",
     "text": [
      "_________________________________________________________________\n",
      "Layer (type)                 Output Shape              Param #   \n",
      "=================================================================\n",
      "input_13 (InputLayer)        (None, 4)                 0         \n",
      "_________________________________________________________________\n",
      "dense_66 (Dense)             (None, 3)                 15        \n",
      "_________________________________________________________________\n",
      "dense_67 (Dense)             (None, 2)                 8         \n",
      "_________________________________________________________________\n",
      "dense_68 (Dense)             (None, 3)                 9         \n",
      "_________________________________________________________________\n",
      "dense_69 (Dense)             (None, 4)                 16        \n",
      "=================================================================\n",
      "Total params: 48\n",
      "Trainable params: 48\n",
      "Non-trainable params: 0\n",
      "_________________________________________________________________\n"
     ]
    }
   ],
   "source": [
    "x = Dense(3,activation='relu')(input_shape)\n",
    "#x = BatchNormalization()(x)\n",
    "#x = Activation(\"relu\")(x)\n",
    "#x = Dense(3,activation='relu')(x)\n",
    "#x = BatchNormalization()(x)\n",
    "#x = Activation(\"relu\")(x)\n",
    "x = Dense(2,activation='relu')(x)\n",
    "#x = BatchNormalization()(x)\n",
    "#encoded = Activation(\"relu\")(x)\n",
    "\n",
    "x = Dense(3,activation='relu')(x)\n",
    "#x = BatchNormalization()(x)\n",
    "#x = Activation(\"relu\")(x)\n",
    "decoded = Dense(4,activation='sigmoid')(x)\n",
    "\n",
    "autoencoder = Model(input_shape, decoded)\n",
    "autoencoder.compile(optimizer='adadelta', loss='mse',metrics=['accuracy'])\n",
    "#autoencoder.compile(optimizer='adadelta', loss='binary_crossentropy')\n",
    "\n",
    "autoencoder.save('model1.hdf5')\n",
    "plot_model(autoencoder, to_file='model1.png')\n",
    "\n",
    "autoencoder.summary()"
   ]
  },
  {
   "cell_type": "markdown",
   "metadata": {},
   "source": [
    "## Input Information"
   ]
  },
  {
   "cell_type": "code",
   "execution_count": 26,
   "metadata": {},
   "outputs": [],
   "source": [
    "#with open('dataPileup.pickle', 'rb') as handle:\n",
    "#    b = pickle.load(handle)"
   ]
  },
  {
   "cell_type": "code",
   "execution_count": 27,
   "metadata": {},
   "outputs": [],
   "source": [
    "input_cols = len(b['304125']['sample_pileup'][0])\n",
    "input_shape = Input(shape=(input_cols,))"
   ]
  },
  {
   "cell_type": "markdown",
   "metadata": {},
   "source": [
    "## Model 2\n",
    "### With pileup"
   ]
  },
  {
   "cell_type": "code",
   "execution_count": 28,
   "metadata": {},
   "outputs": [
    {
     "name": "stdout",
     "output_type": "stream",
     "text": [
      "_________________________________________________________________\n",
      "Layer (type)                 Output Shape              Param #   \n",
      "=================================================================\n",
      "input_8 (InputLayer)         (None, 5)                 0         \n",
      "_________________________________________________________________\n",
      "dense_47 (Dense)             (None, 5)                 30        \n",
      "_________________________________________________________________\n",
      "dense_48 (Dense)             (None, 4)                 24        \n",
      "_________________________________________________________________\n",
      "dense_49 (Dense)             (None, 3)                 15        \n",
      "_________________________________________________________________\n",
      "dense_50 (Dense)             (None, 2)                 8         \n",
      "_________________________________________________________________\n",
      "dense_51 (Dense)             (None, 3)                 9         \n",
      "_________________________________________________________________\n",
      "dense_52 (Dense)             (None, 4)                 16        \n",
      "_________________________________________________________________\n",
      "dense_53 (Dense)             (None, 5)                 25        \n",
      "=================================================================\n",
      "Total params: 127\n",
      "Trainable params: 127\n",
      "Non-trainable params: 0\n",
      "_________________________________________________________________\n"
     ]
    }
   ],
   "source": [
    "x = Dense(5,activation='relu')(input_shape)\n",
    "#x = BatchNormalization()(x)\n",
    "#x = Activation(\"relu\")(x)\n",
    "x = Dense(4,activation='relu')(x)\n",
    "#x = BatchNormalization()(x)\n",
    "#x = Activation(\"relu\")(x)\n",
    "x = Dense(3,activation='relu')(x)\n",
    "#x = BatchNormalization()(x)\n",
    "#x = Activation(\"relu\")(x)\n",
    "x = Dense(2,activation='relu')(x)\n",
    "#x = BatchNormalization()(x)\n",
    "#encoded = Activation(\"relu\")(x)\n",
    "\n",
    "x = Dense(3,activation='relu')(x)\n",
    "#x = BatchNormalization()(x)\n",
    "#x = Activation(\"relu\")(x)\n",
    "x = Dense(4,activation='relu')(x)\n",
    "#x = BatchNormalization()(x)\n",
    "#x = Activation(\"relu\")(x)\n",
    "decoded = Dense(5,activation='relu')(x)\n",
    "\n",
    "autoencoder = Model(input_shape, decoded)\n",
    "autoencoder.compile(optimizer='adadelta', loss='mse',metrics=['accuracy'])\n",
    "\n",
    "autoencoder.save('model1Pileup.hdf5')\n",
    "plot_model(autoencoder, to_file='model1Pileup.png')\n",
    "\n",
    "autoencoder.summary()"
   ]
  },
  {
   "cell_type": "code",
   "execution_count": null,
   "metadata": {},
   "outputs": [],
   "source": []
  },
  {
   "cell_type": "code",
   "execution_count": null,
   "metadata": {},
   "outputs": [],
   "source": []
  },
  {
   "cell_type": "code",
   "execution_count": null,
   "metadata": {},
   "outputs": [],
   "source": []
  }
 ],
 "metadata": {
  "kernelspec": {
   "display_name": "Python 2",
   "language": "python",
   "name": "python2"
  },
  "language_info": {
   "codemirror_mode": {
    "name": "ipython",
    "version": 2
   },
   "file_extension": ".py",
   "mimetype": "text/x-python",
   "name": "python",
   "nbconvert_exporter": "python",
   "pygments_lexer": "ipython2",
   "version": "2.7.13"
  }
 },
 "nbformat": 4,
 "nbformat_minor": 2
}
